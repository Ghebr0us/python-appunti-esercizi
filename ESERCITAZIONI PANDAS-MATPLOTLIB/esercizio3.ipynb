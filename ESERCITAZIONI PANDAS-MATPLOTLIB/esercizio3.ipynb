{
  "nbformat": 4,
  "nbformat_minor": 0,
  "metadata": {
    "colab": {
      "name": "esercizio3.ipynb",
      "provenance": [],
      "authorship_tag": "ABX9TyP4AgF8YoY0lf2/jKMBpHI6",
      "include_colab_link": true
    },
    "kernelspec": {
      "name": "python3",
      "display_name": "Python 3"
    },
    "language_info": {
      "name": "python"
    }
  },
  "cells": [
    {
      "cell_type": "markdown",
      "metadata": {
        "id": "view-in-github",
        "colab_type": "text"
      },
      "source": [
        "<a href=\"https://colab.research.google.com/github/Ghebr0us/python-appunti-esercizi/blob/main/esercizio3.ipynb\" target=\"_parent\"><img src=\"https://colab.research.google.com/assets/colab-badge.svg\" alt=\"Open In Colab\"/></a>"
      ]
    },
    {
      "cell_type": "markdown",
      "metadata": {
        "id": "oPmuXF5yw9M9"
      },
      "source": [
        "PROVA DIZIONARIO\n"
      ]
    },
    {
      "cell_type": "code",
      "metadata": {
        "colab": {
          "base_uri": "https://localhost:8080/"
        },
        "id": "8-R0J8MQvc4J",
        "outputId": "10a10fcb-7131-42da-9e8e-ba66468aeda0"
      },
      "source": [
        "telefoni = {'Mario':'02605264', 'Ugo': '0234508670','Paolo':['024378439',3525317956]}\n",
        "telefoni['Paolo']"
      ],
      "execution_count": null,
      "outputs": [
        {
          "output_type": "execute_result",
          "data": {
            "text/plain": [
              "['024378439', 3525317956]"
            ]
          },
          "metadata": {},
          "execution_count": 1
        }
      ]
    },
    {
      "cell_type": "markdown",
      "metadata": {
        "id": "AyZW4ivZxB7s"
      },
      "source": [
        "1. Scrivere un programma che crei un dizionario contenente i nomi delle regioni e i nomi dei loro\n",
        "capoluoghi. Il nome della regione deve essere il campo chiave. Chiamare il dizionario\n",
        "capoluoghiRegione"
      ]
    },
    {
      "cell_type": "code",
      "metadata": {
        "id": "pFk7Gh8rxBMd"
      },
      "source": [
        "capoluoghiRegione = {'Abruzzo':' L Aquila','Basilicata':'Potenza','Calabria':'Catanzaro','Campania':'Napoli','Emilia-Romagna':'Bologna','Friuli-Venezia Giulia':'Trieste','Lazio':'Roma','Liguria':'Genova','Lombardia':'Milano','Marche':'Ancona','Molise':'Campobasso','Piemonte':'\tTorino','Puglia':'\tBari','Sardegna':'Cagliari','Sicilia':'\tPalermo','Toscana':'Firenze','Trentino-Alto Adige':'Trento','Umbria':'Perugia','Valle d Aosta':'Aosta','Veneto':'Venezia',}"
      ],
      "execution_count": null,
      "outputs": []
    },
    {
      "cell_type": "markdown",
      "metadata": {
        "id": "qGtGiHHB1U8U"
      },
      "source": [
        "2. Scrivere un programma che visualizzi tutti i nomi delle regioni presenti in capoluoghiRegione"
      ]
    },
    {
      "cell_type": "code",
      "metadata": {
        "colab": {
          "base_uri": "https://localhost:8080/"
        },
        "id": "n9lKt-3e1Ul1",
        "outputId": "a4971318-a286-4daa-9c13-c5e5f2700f51"
      },
      "source": [
        "regioni = { k for k in capoluoghiRegione.keys() } \n",
        "print(regioni)"
      ],
      "execution_count": null,
      "outputs": [
        {
          "output_type": "stream",
          "name": "stdout",
          "text": [
            "{'Calabria', 'Basilicata', 'Marche', 'Lombardia', 'Piemonte', 'Molise', 'Sardegna', 'Trentino-Alto Adige', 'Sicilia', 'Friuli-Venezia Giulia', 'Umbria', 'Liguria', 'Veneto', 'Emilia-Romagna', 'Puglia', 'Campania', 'Lazio', 'Toscana', 'Valle d Aosta', 'Abruzzo'}\n"
          ]
        }
      ]
    },
    {
      "cell_type": "markdown",
      "metadata": {
        "id": "IfERAqDd2hk9"
      },
      "source": [
        "3. Scrivere un programma che visualizzi tutti i nomi dei capoluoghi di regione presenti in\n",
        "capoluoghiRegione"
      ]
    },
    {
      "cell_type": "code",
      "metadata": {
        "colab": {
          "base_uri": "https://localhost:8080/"
        },
        "id": "B1FPLGw02n-E",
        "outputId": "65b4559d-a887-41e3-fe76-3a2f54233841"
      },
      "source": [
        "capoluoghi = { i for i in capoluoghiRegione.values() } \n",
        "print(capoluoghi)"
      ],
      "execution_count": null,
      "outputs": [
        {
          "output_type": "stream",
          "name": "stdout",
          "text": [
            "{'Campobasso', 'Napoli', 'Trento', 'Milano', '\\tBari', 'Trieste', 'Firenze', 'Potenza', '\\tTorino', 'Perugia', 'Bologna', '\\tPalermo', 'Catanzaro', 'Cagliari', 'Aosta', ' L Aquila', 'Roma', 'Ancona', 'Venezia', 'Genova'}\n"
          ]
        }
      ]
    },
    {
      "cell_type": "markdown",
      "metadata": {
        "id": "tdKXTqJE3Cq0"
      },
      "source": [
        "4. Scrivere un programma che acquisisca dall’utente il nome di una regione e fornisca il nome del suo\n",
        "capoluogo."
      ]
    },
    {
      "cell_type": "code",
      "metadata": {
        "colab": {
          "base_uri": "https://localhost:8080/"
        },
        "id": "fCYb8KGl3F9s",
        "outputId": "ed069f57-f5ff-428e-c3d9-4d946a7e30ac"
      },
      "source": [
        "searchcapoluogo=(input('Di quale Regione vuoi sapere il Capoluogo?: '))\n",
        "print(capoluoghiRegione[searchcapoluogo])"
      ],
      "execution_count": null,
      "outputs": [
        {
          "output_type": "stream",
          "name": "stdout",
          "text": [
            "Di quale Regione vuoi sapere il Capoluogo?: Lombardia\n",
            "Milano\n"
          ]
        }
      ]
    },
    {
      "cell_type": "markdown",
      "metadata": {
        "id": "RNVisgx635Ps"
      },
      "source": [
        "5. Scrivere un programma che acquisisca dall’utente il nome di un capoluogo e fornisca il nome della\n",
        "regione a cui appartiene."
      ]
    },
    {
      "cell_type": "code",
      "metadata": {
        "id": "6EgljgYw37jE"
      },
      "source": [
        "InputUtente1=input()\n",
        "for regioni,capoluoghi in capoluoghiRegione.items():\n",
        "  if capoluoghi==InputUtente1:\n",
        "    print(regioni)"
      ],
      "execution_count": null,
      "outputs": []
    },
    {
      "cell_type": "markdown",
      "metadata": {
        "id": "augo-Gbq52kd"
      },
      "source": [
        "6. Scrivere un programma che visualizzi tutte le regioni con i rispettivi capoluoghi"
      ]
    },
    {
      "cell_type": "code",
      "metadata": {
        "colab": {
          "base_uri": "https://localhost:8080/"
        },
        "id": "qy7cjRTJ5558",
        "outputId": "3102f09f-6d77-476d-f5d9-384d7ccec9ac"
      },
      "source": [
        "print(capoluoghiRegione)"
      ],
      "execution_count": null,
      "outputs": [
        {
          "output_type": "stream",
          "name": "stdout",
          "text": [
            "{'Abruzzo': ' L Aquila', 'Basilicata': 'Potenza', 'Calabria': 'Catanzaro', 'Campania': 'Napoli', 'Emilia-Romagna': 'Bologna', 'Friuli-Venezia Giulia': 'Trieste', 'Lazio': 'Roma', 'Liguria': 'Genova', 'Lombardia': 'Milano', 'Marche': 'Ancona', 'Molise': 'Campobasso', 'Piemonte': '\\tTorino', 'Puglia': '\\tBari', 'Sardegna': 'Cagliari', 'Sicilia': '\\tPalermo', 'Toscana': 'Firenze', 'Trentino-Alto Adige': 'Trento', 'Umbria': 'Perugia', 'Valle d Aosta': 'Aosta', 'Veneto': 'Venezia'}\n"
          ]
        }
      ]
    },
    {
      "cell_type": "markdown",
      "metadata": {
        "id": "G6sMwNzY58_T"
      },
      "source": [
        "7. Scrivere un programma che visualizzi tutte le regioni con i rispettivi capoluoghi. Ordinare le regioni\n",
        "in ordine alfabetico"
      ]
    },
    {
      "cell_type": "code",
      "metadata": {
        "colab": {
          "base_uri": "https://localhost:8080/"
        },
        "id": "pPjZy7HC59cL",
        "outputId": "ebbd7bc5-ff18-45e5-e595-eebafa2009a9"
      },
      "source": [
        "capoluoghiRegione = {'Abruzzo':' L Aquila','Basilicata':'Potenza','Calabria':'Catanzaro','Campania':'Napoli','Emilia-Romagna':'Bologna','Friuli-Venezia Giulia':'Trieste','Lazio':'Roma','Liguria':'Genova','Lombardia':'Milano','Marche':'Ancona','Molise':'Campobasso','Piemonte':'\tTorino','Puglia':'\tBari','Sardegna':'Cagliari','Sicilia':'\tPalermo','Toscana':'Firenze','Trentino-Alto Adige':'Trento','Umbria':'Perugia','Valle d Aosta':'Aosta','Veneto':'Venezia',}\n",
        "print(capoluoghiRegione)\n",
        "\n",
        "regioni = { k for k in capoluoghiRegione.keys() } \n",
        "print(sorted(regioni))\n"
      ],
      "execution_count": 7,
      "outputs": [
        {
          "output_type": "stream",
          "name": "stdout",
          "text": [
            "{'Basilicata': ' L Aquila', 'Abruzzo': 'Potenza', 'Calabria': 'Catanzaro', 'Campania': 'Napoli', 'Emilia-Romagna': 'Bologna', 'Friuli-Venezia Giulia': 'Trieste', 'Lazio': 'Roma', 'Liguria': 'Genova', 'Lombardia': 'Milano', 'Marche': 'Ancona', 'Molise': 'Campobasso', 'Piemonte': '\\tTorino', 'Puglia': '\\tBari', 'Sardegna': 'Cagliari', 'Sicilia': '\\tPalermo', 'Toscana': 'Firenze', 'Trentino-Alto Adige': 'Trento', 'Umbria': 'Perugia', 'Valle d Aosta': 'Aosta', 'Veneto': 'Venezia'}\n",
            "['Abruzzo', 'Basilicata', 'Calabria', 'Campania', 'Emilia-Romagna', 'Friuli-Venezia Giulia', 'Lazio', 'Liguria', 'Lombardia', 'Marche', 'Molise', 'Piemonte', 'Puglia', 'Sardegna', 'Sicilia', 'Toscana', 'Trentino-Alto Adige', 'Umbria', 'Valle d Aosta', 'Veneto']\n"
          ]
        }
      ]
    },
    {
      "cell_type": "markdown",
      "metadata": {
        "id": "3v3M2nRA6jBE"
      },
      "source": [
        "8. Scrivere un programma che visualizzi tutte le regioni con i rispettivi capoluoghi. Ordinare i\n",
        "capoluoghi in ordine alfabetico"
      ]
    },
    {
      "cell_type": "code",
      "metadata": {
        "colab": {
          "base_uri": "https://localhost:8080/"
        },
        "id": "dzlaT6Rb6kQ0",
        "outputId": "bf302e69-10bb-4d78-e329-3d5578a5bbd5"
      },
      "source": [
        "capoluoghiRegione = {'Abruzzo':'L Aquila','Basilicata':'Potenza','Calabria':'Catanzaro','Campania':'Napoli','Emilia-Romagna':'Bologna','Friuli-Venezia Giulia':'Trieste','Lazio':'Roma','Liguria':'Genova','Lombardia':'Milano','Marche':'Ancona','Molise':'Campobasso','Piemonte':'Torino','Puglia':'Bari','Sardegna':'Cagliari','Sicilia':'Palermo','Toscana':'Firenze','Trentino-Alto Adige':'Trento','Umbria':'Perugia','Valle d Aosta':'Aosta','Veneto':'Venezia',}\n",
        "capoluoghi = { i for i in capoluoghiRegione.values() } \n",
        "\n",
        "print(capoluoghiRegione)\n",
        "\n",
        "regioni = { k for k in capoluoghiRegione.values() } \n",
        "print(sorted(capoluoghi))\n"
      ],
      "execution_count": 4,
      "outputs": [
        {
          "output_type": "stream",
          "name": "stdout",
          "text": [
            "{'Abruzzo': 'L Aquila', 'Basilicata': 'Potenza', 'Calabria': 'Catanzaro', 'Campania': 'Napoli', 'Emilia-Romagna': 'Bologna', 'Friuli-Venezia Giulia': 'Trieste', 'Lazio': 'Roma', 'Liguria': 'Genova', 'Lombardia': 'Milano', 'Marche': 'Ancona', 'Molise': 'Campobasso', 'Piemonte': 'Torino', 'Puglia': 'Bari', 'Sardegna': 'Cagliari', 'Sicilia': 'Palermo', 'Toscana': 'Firenze', 'Trentino-Alto Adige': 'Trento', 'Umbria': 'Perugia', 'Valle d Aosta': 'Aosta', 'Veneto': 'Venezia'}\n",
            "['Ancona', 'Aosta', 'Bari', 'Bologna', 'Cagliari', 'Campobasso', 'Catanzaro', 'Firenze', 'Genova', 'L Aquila', 'Milano', 'Napoli', 'Palermo', 'Perugia', 'Potenza', 'Roma', 'Torino', 'Trento', 'Trieste', 'Venezia']\n"
          ]
        }
      ]
    },
    {
      "cell_type": "markdown",
      "metadata": {
        "id": "4hgz_V3J-vMn"
      },
      "source": [
        "9. Scrivere un programma che carichi in una lista i nomi delle regioni e in un’altra lista i nomi dei\n",
        "rispettivi capoluoghi. Scrivere poi l’istruzione che permette di costruire il dizionario a partire dalle\n",
        "due liste."
      ]
    },
    {
      "cell_type": "code",
      "metadata": {
        "colab": {
          "base_uri": "https://localhost:8080/"
        },
        "id": "B1uxyMjk-7vC",
        "outputId": "2ce6b834-e785-4c1b-ae4f-efa71fc6f45b"
      },
      "source": [
        "regioni=['Toscana', 'Abruzzo', 'Campania', 'Piemonte', 'Basilicata', 'Umbria', 'Calabria', \"Valle d'Aosta\", 'Friuli-Venezia Giulia', 'Lombardia', 'Emilia-Romagna', 'Molise', 'Veneto', 'Marche', 'Puglia', 'Liguria', 'Sicilia', 'Sardegna', 'Lazio', 'Trentino-Alto Adige'\n",
        "]\n",
        "capoluoghi=[\"Firenze\",\"L'Aquila\",\"Napoli\",\"Torino\",\"Potenza\",\"Perugia\",\"Catanzaro\",\"Aosta\",\"Trieste\",\"Milano\",\"Bologna\",\"Campobasso\",\"Venezia\",\"Ancona\",\"Bari\",\"Genova\",\"Palermo\",\"Cagliari\",\"Roma\",\"Trento\"]\n",
        "dizionario=[ (regioni,capoluoghi) for regioni,capoluoghi in zip(regioni,capoluoghi)] \n",
        "print(dizionario)"
      ],
      "execution_count": 6,
      "outputs": [
        {
          "output_type": "stream",
          "name": "stdout",
          "text": [
            "[('Toscana', 'Firenze'), ('Abruzzo', \"L'Aquila\"), ('Campania', 'Napoli'), ('Piemonte', 'Torino'), ('Basilicata', 'Potenza'), ('Umbria', 'Perugia'), ('Calabria', 'Catanzaro'), (\"Valle d'Aosta\", 'Aosta'), ('Friuli-Venezia Giulia', 'Trieste'), ('Lombardia', 'Milano'), ('Emilia-Romagna', 'Bologna'), ('Molise', 'Campobasso'), ('Veneto', 'Venezia'), ('Marche', 'Ancona'), ('Puglia', 'Bari'), ('Liguria', 'Genova'), ('Sicilia', 'Palermo'), ('Sardegna', 'Cagliari'), ('Lazio', 'Roma'), ('Trentino-Alto Adige', 'Trento')]\n"
          ]
        }
      ]
    }
  ]
}