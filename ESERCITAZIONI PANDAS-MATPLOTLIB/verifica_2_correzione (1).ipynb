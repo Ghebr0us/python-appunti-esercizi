{
  "cells": [
    {
      "cell_type": "markdown",
      "metadata": {
        "id": "EIOGcuekVBGW"
      },
      "source": [
        "2)modificare il programma precedente in modo che prima di effettuare il calcolo controlli che i valori inseriti dall’utente siano positivi. Visualizzare gli opportuni messaggi di errore a seconda del verificarsi delle diverse condizioni"
      ]
    },
    {
      "cell_type": "code",
      "execution_count": null,
      "metadata": {
        "colab": {
          "base_uri": "https://localhost:8080/"
        },
        "id": "FRPcamEvRjbu",
        "outputId": "8b3eaf89-6d0f-470a-ac51-f95148717c34"
      },
      "outputs": [
        {
          "name": "stdout",
          "output_type": "stream",
          "text": [
            "inserire altezza: 2\n",
            "inserire base: 4\n",
            "inserire profondità: 5\n",
            "40.0\n"
          ]
        }
      ],
      "source": [
        "altezza = float(input(\"inserire altezza: \"))\n",
        "if altezza< 0:\n",
        "  print(\"il valore 'altezza' è negativo,inserire valore positivo\")\n",
        "else: \n",
        "  base = float(input(\"inserire base: \"))\n",
        "  if base< 0:\n",
        "    print(\"il valore 'base' è negativo,inserire valore positivo\")\n",
        "  else: \n",
        "      profondità = float(input(\"inserire profondità: \"))\n",
        "      if profondità < 0:\n",
        "        print(\"il valore 'profondità' è negativo,inserire valore positivo\")\n",
        "      else:\n",
        "          volume = altezza*base*profondità\n",
        "          print(round(volume,2))"
      ]
    },
    {
      "cell_type": "markdown",
      "metadata": {
        "id": "LN4Vaw6JVnju"
      },
      "source": [
        "scrivere un programma che permetta di visualizzare tutti i quadrati perfetti minori di un numero intero inserito dall’utente. I quadrati perfetti sono numeri interi che possono essere espressi come il quadrato di un numero intero. Ad esempio 9 è un quadrato perfetto perché è il quadrato del numero intero 3 mentre 8 non è un quadrato perfetto perché non è il quadrato di nessun numero intero)\n"
      ]
    },
    {
      "cell_type": "code",
      "execution_count": null,
      "metadata": {
        "id": "aoDXs2vcUiug"
      },
      "outputs": [],
      "source": [
        "num = int(input(\"inserire numero: \"))\n",
        "perfectquad=[]\n",
        "i = 1\n",
        "while i**2 < num:\n",
        "  print(i**2)\n",
        "  i += 1"
      ]
    },
    {
      "cell_type": "markdown",
      "metadata": {
        "id": "MjoULE8cXpOG"
      },
      "source": [
        "scrivere un programma che inserisca in una lista tutti i numeri interi compresi tra due estremi forniti dall’utente. Al termine, visualizzare la lista dei numeri e la lista al contrario\n"
      ]
    },
    {
      "cell_type": "code",
      "execution_count": null,
      "metadata": {
        "id": "6CfhRUZ_XrDu"
      },
      "outputs": [],
      "source": [
        "a=(int(input(\"inserire valore: \")))\n",
        "b=(int(input(\"inserire valore: \")))\n",
        "lista = [i for i in range(a,b)]\n",
        "print(lista)\n",
        "print(sorted(lista, reverse=True))"
      ]
    },
    {
      "cell_type": "markdown",
      "metadata": {
        "id": "yf906bkxbHhV"
      },
      "source": [
        "scrivere un programma che carichi in una lista chiamata “tutti” i numeri pari compresi tra -30 e +30. Usando poi lo slicing, caricare in una lista chiamata “negativi” gli elementi della lista “tutti” minori di 0 e in una chiamata “positivi” gli elementi della lista “tutti” maggiori di zero. Al termine visualizzare le tre liste.."
      ]
    },
    {
      "cell_type": "code",
      "execution_count": null,
      "metadata": {
        "colab": {
          "base_uri": "https://localhost:8080/"
        },
        "id": "F7pczuH7bHLF",
        "outputId": "dbcb5a92-797d-459a-c86b-9a003e23404a"
      },
      "outputs": [
        {
          "name": "stdout",
          "output_type": "stream",
          "text": [
            "47.500880922277666\n"
          ]
        }
      ],
      "source": [
        "lista = [i for i in range(-30,30)if i%2 == 0]\n",
        "negativi = (lista[:15])\n",
        "positivi = (lista[15:])\n",
        "print(positivi)\n",
        "print(negativi)\n",
        "print(lista)"
      ]
    },
    {
      "cell_type": "markdown",
      "metadata": {
        "id": "RGwuR95ecmke"
      },
      "source": [
        "6)scrivere una funzione chiamata volumeSfera che dato il raggio in metri di una sfera calcoli il suo volume. Utilizzare poi quella funzione per scrivere un’altra funzione chiamata pesoSfera che permetta di calcolare il peso di una sfera dato il suo raggio in metri e la sua densità, espressa in grammi al centimetro cubo. Infine, scrivere un programma che calcoli il peso di una sfera di piombo del raggio di un metro (la densità del piombo è di 11.34 g/cm3)\n"
      ]
    },
    {
      "cell_type": "code",
      "execution_count": null,
      "metadata": {
        "colab": {
          "base_uri": "https://localhost:8080/"
        },
        "id": "Ouz2r_NIcl8e",
        "outputId": "db1a2125-9fc8-4840-e50e-5f2187dbd5ba"
      },
      "outputs": [
        {
          "name": "stdout",
          "output_type": "stream",
          "text": [
            "47500.88092227767 kg\n"
          ]
        }
      ],
      "source": [
        "import math\n",
        "def volumesfera(x):\n",
        "  return 4/3* math.pi * x**3\n",
        "\n",
        "\n",
        "def pesosfera(r,d):\n",
        "  return volumesfera(r)* d\n",
        "\n",
        "print(pesosfera(1,11.34*1000),\"kg\")"
      ]
    },
    {
      "cell_type": "markdown",
      "metadata": {
        "id": "o-GUUzlRzZcP"
      },
      "source": [
        "7)data una lista di 100 numeri pari casuali caricata tramite una list comprehension, sostituire ogni elemento con il suo quadrato"
      ]
    },
    {
      "cell_type": "code",
      "execution_count": null,
      "metadata": {
        "colab": {
          "base_uri": "https://localhost:8080/"
        },
        "id": "VxEmgijXzeut",
        "outputId": "0f98c3f0-53a8-4e22-9886-0e6ba9616203"
      },
      "outputs": [
        {
          "name": "stdout",
          "output_type": "stream",
          "text": [
            "lista random : [64, 46, 38, 82, 14, 30, 34, 56, 84, 42, 48, 44, 90, 58, 34, 32, 46, 40, 80, 38, 38, 22, 70, 78, 78, 2, 44, 66, 66, 64, 10, 56, 98, 20, 12, 94, 4, 62, 30, 50, 76, 50, 64, 6, 98, 12, 74, 46, 14, 58, 8, 48, 74, 10, 34, 90, 2, 38, 88, 82, 48, 50, 40, 98, 94, 38, 70, 50, 26, 70, 58, 90, 76, 78, 82, 64, 8, 38, 72, 98, 92, 66, 64, 90, 16, 8, 50, 94, 34, 66, 22, 90, 38, 32, 94, 90, 10, 38, 82, 68]\n"
          ]
        },
        {
          "data": {
            "text/plain": [
              "[4096,\n",
              " 2116,\n",
              " 1444,\n",
              " 6724,\n",
              " 196,\n",
              " 900,\n",
              " 1156,\n",
              " 3136,\n",
              " 7056,\n",
              " 1764,\n",
              " 2304,\n",
              " 1936,\n",
              " 8100,\n",
              " 3364,\n",
              " 1156,\n",
              " 1024,\n",
              " 2116,\n",
              " 1600,\n",
              " 6400,\n",
              " 1444,\n",
              " 1444,\n",
              " 484,\n",
              " 4900,\n",
              " 6084,\n",
              " 6084,\n",
              " 4,\n",
              " 1936,\n",
              " 4356,\n",
              " 4356,\n",
              " 4096,\n",
              " 100,\n",
              " 3136,\n",
              " 9604,\n",
              " 400,\n",
              " 144,\n",
              " 8836,\n",
              " 16,\n",
              " 3844,\n",
              " 900,\n",
              " 2500,\n",
              " 5776,\n",
              " 2500,\n",
              " 4096,\n",
              " 36,\n",
              " 9604,\n",
              " 144,\n",
              " 5476,\n",
              " 2116,\n",
              " 196,\n",
              " 3364,\n",
              " 64,\n",
              " 2304,\n",
              " 5476,\n",
              " 100,\n",
              " 1156,\n",
              " 8100,\n",
              " 4,\n",
              " 1444,\n",
              " 7744,\n",
              " 6724,\n",
              " 2304,\n",
              " 2500,\n",
              " 1600,\n",
              " 9604,\n",
              " 8836,\n",
              " 1444,\n",
              " 4900,\n",
              " 2500,\n",
              " 676,\n",
              " 4900,\n",
              " 3364,\n",
              " 8100,\n",
              " 5776,\n",
              " 6084,\n",
              " 6724,\n",
              " 4096,\n",
              " 64,\n",
              " 1444,\n",
              " 5184,\n",
              " 9604,\n",
              " 8464,\n",
              " 4356,\n",
              " 4096,\n",
              " 8100,\n",
              " 256,\n",
              " 64,\n",
              " 2500,\n",
              " 8836,\n",
              " 1156,\n",
              " 4356,\n",
              " 484,\n",
              " 8100,\n",
              " 1444,\n",
              " 1024,\n",
              " 8836,\n",
              " 8100,\n",
              " 100,\n",
              " 1444,\n",
              " 6724,\n",
              " 4624]"
            ]
          },
          "execution_count": 7,
          "metadata": {},
          "output_type": "execute_result"
        }
      ],
      "source": [
        "import random\n",
        "randomnum = [ random.randrange(2,100,2) for i in range (100)]\n",
        "\n",
        "print(\"lista random : \" +  str(randomnum))\n",
        "list(map(lambda x: x**2, randomnum))"
      ]
    },
    {
      "cell_type": "markdown",
      "metadata": {
        "id": "YXO8rAjI3sKZ"
      },
      "source": [
        "**8)**data una lista di 100 numeri pari casuali caricata tramite una list comprehension, eliminare tutti gli elementi della lista che sono multipli di 6\n"
      ]
    },
    {
      "cell_type": "code",
      "execution_count": null,
      "metadata": {
        "colab": {
          "base_uri": "https://localhost:8080/"
        },
        "id": "7ogeUYkI5ZMV",
        "outputId": "507a3273-b16c-4806-d4dc-dcc245e7e49e"
      },
      "outputs": [
        {
          "name": "stdout",
          "output_type": "stream",
          "text": [
            "lista random : [24, 20, 96, 2, 96, 10, 50, 14, 90, 54, 78, 72, 76, 8, 34, 76, 54, 40, 92, 96, 68, 88, 30, 90, 48, 34, 70, 18, 98, 46, 20, 72, 90, 50, 18, 38, 6, 64, 68, 20, 76, 80, 90, 98, 2, 20, 14, 46, 58, 34, 4, 8, 70, 82, 4, 70, 42, 94, 52, 2, 90, 68, 68, 38, 94, 90, 24, 94, 50, 22, 56, 10, 56, 34, 10, 64, 88, 88, 4, 26, 88, 24, 22, 64, 88, 32, 56, 32, 12, 28, 10, 84, 34, 14, 56, 42, 10, 74, 22, 98]\n",
            "lista random : []\n"
          ]
        }
      ],
      "source": [
        "import random\n",
        "randomnum = [ random.randrange(2,100,2) for i in range (100)]\n",
        "list(filter(lambda x: x/6==1, randomnum))\n",
        "print(\"lista random : \" +  str(randomnum))\n",
        "\n",
        "\n"
      ]
    },
    {
      "cell_type": "markdown",
      "metadata": {
        "id": "hwqse6oqs_iU"
      },
      "source": [
        "8 Parma"
      ]
    },
    {
      "cell_type": "code",
      "execution_count": null,
      "metadata": {
        "colab": {
          "base_uri": "https://localhost:8080/"
        },
        "id": "Y85bwS-Zs65V",
        "outputId": "93df2c2b-6c7f-4f8f-84dc-12f86b32ff32"
      },
      "outputs": [
        {
          "name": "stdout",
          "output_type": "stream",
          "text": [
            "lista random : [98, 80, 82, 92, 2, 86, 86, 64, 62, 76, 62, 46, 50, 88, 58, 88, 26, 10, 8, 46, 50, 38, 86, 46, 92, 26, 2, 16, 2, 22, 94, 26, 2, 20, 58, 70, 88, 88, 70, 40, 88, 14, 80, 44, 26, 40, 40, 94, 40, 86, 56, 88, 14, 52, 10, 16, 52, 20, 38, 38, 44, 94, 92, 14, 32, 86]\n"
          ]
        }
      ],
      "source": [
        "import random\n",
        "randomnum = [ random.randrange(2,100,2) for i in range (100)]\n",
        "randomnum = list(filter(lambda x: x % 6 >= 1, randomnum))\n",
        "print(\"lista random : \" +  str(randomnum))"
      ]
    },
    {
      "cell_type": "markdown",
      "metadata": {
        "id": "ShUUsEsKs58i"
      },
      "source": []
    },
    {
      "cell_type": "markdown",
      "metadata": {
        "id": "X_q8fhyJrjuT"
      },
      "source": [
        "lista di 100 numero pari ma con numpy"
      ]
    },
    {
      "cell_type": "code",
      "execution_count": null,
      "metadata": {
        "id": "JhKAjkDpri8B"
      },
      "outputs": [],
      "source": [
        "import numpy as np\n",
        "l = np.arange(0, 201, 2)      #non è una list comprehension"
      ]
    },
    {
      "cell_type": "markdown",
      "metadata": {
        "id": "_7iuuxxV7hIr"
      },
      "source": [
        "**9)**progettare una struttura dati che permetta di memorizzare l’orario di partenza e di arrivo dei treni della tratta Milano Roma dell’alta velocità. Ad esempio il treno 9645 parte alle 16.00 e arriva alle 19.10, il treno 9647 parte alle 16.30 e arriva alle 19.40 a Roma. Memorizzare nella struttura dati progettata queste informazioni e scrivere il codice necessario per cercare un treno ed avere l’ora di partenza e l’ora di arrivo. Se non c’è il treno che l’utente inserisce, dare un opportuno messaggio di errore.\n"
      ]
    },
    {
      "cell_type": "code",
      "execution_count": null,
      "metadata": {
        "colab": {
          "base_uri": "https://localhost:8080/"
        },
        "id": "1QocfLov7i7s",
        "outputId": "99e2f83c-a442-4cd8-ce6a-ef98d91b7654"
      },
      "outputs": [
        {
          "name": "stdout",
          "output_type": "stream",
          "text": [
            "9645\n",
            "['partenza 16.00', 'Arrivo 19.10']\n",
            "nessun treno esistente\n"
          ]
        }
      ],
      "source": [
        "MilanoRoma = [{'treno':'9645','orari':['partenza 16.00','Arrivo 19.10']},{'treno':'9647','orari':['partenza 16.30','Arrivo 19.40']}]\n",
        "treni = input()\n",
        "\n",
        "for dizionario in MilanoRoma:\n",
        "  if dizionario['treno'] == treni:\n",
        "    print(dizionario[\"orari\"])\n",
        "  else:\n",
        "    print(\"nessun treno esistente\")\n"
      ]
    },
    {
      "cell_type": "markdown",
      "metadata": {
        "id": "a0A3VRai9GHU"
      },
      "source": [
        "**VERIFICA B**"
      ]
    },
    {
      "cell_type": "markdown",
      "metadata": {
        "id": "Dzv5muSN9KAa"
      },
      "source": [
        "**10)**scrivere un programma che calcoli le radici (dette anche zeri) di una equazione di secondo grado. L’utente inserisce i valori dei coefficienti  a. b e c e il programma calcola gli zeri.\n"
      ]
    },
    {
      "cell_type": "code",
      "execution_count": null,
      "metadata": {
        "id": "1rKQx-Dm9Npd"
      },
      "outputs": [],
      "source": [
        "import math\n",
        "a = int(input(\"Inserie valore \"))\n",
        "b = int(input(\"Inserie valore \"))\n",
        "c = int(input(\"Inserie valore \"))\n",
        "x1 = (-b + math.sqrt(b**2 -4*a*c))/(2*a)\n",
        "x2 = (-b - math.sqrt(b**2 -4*a*c))/(2*a)\n",
        "print(x1)\n",
        "print(x2)"
      ]
    },
    {
      "cell_type": "code",
      "execution_count": null,
      "metadata": {
        "id": "KFu39whmw7Fi"
      },
      "outputs": [],
      "source": [
        "import math\n",
        "x1 = 0\n",
        "x2 = 0\n",
        "a = int(input(\"Inserie valore \"))\n",
        "if a == 0:\n",
        "  print(\"a non può essere 0\")\n",
        "else:\n",
        "  b = int(input(\"Inserie valore \"))\n",
        "  c = int(input(\"Inserie valore \"))\n",
        "  if b**2 -4*a*c < 0:\n",
        "    print(\"Non si può fare la radice di un numero negativo\")\n",
        "  else:\n",
        "    x1 = (-b + math.sqrt(b**2 -4*a*c))/(2*a)\n",
        "    x2 = (-b - math.sqrt(b**2 -4*a*c))/(2*a)\n",
        "    print(x1)\n",
        "    print(x2)"
      ]
    },
    {
      "cell_type": "code",
      "execution_count": null,
      "metadata": {
        "id": "lb-h-LJCw9Pn"
      },
      "outputs": [],
      "source": [
        "num = int(input(\"\"))\n",
        "lst = []\n",
        "for i in range(0,num):\n",
        "  if i%10 == 0:\n",
        "    lst.append(i)\n",
        "print(lst)"
      ]
    },
    {
      "cell_type": "code",
      "execution_count": null,
      "metadata": {
        "id": "ScRjMk3Dw-me"
      },
      "outputs": [],
      "source": [
        "num = int(input(\"\"))\n",
        "lista = [elemento for elemento in range(0,num) if elemento%2 == 0 ]\n",
        "print(sorted(lista,reverse = True))"
      ]
    },
    {
      "cell_type": "code",
      "execution_count": null,
      "metadata": {
        "id": "-fc_updxw_1e"
      },
      "outputs": [],
      "source": [
        "tutti = [elemento for elemento in range(0,90) if elemento%2!=0]\n",
        "print(tutti)\n",
        "print(bassi)\n",
        "print(alti)"
      ]
    },
    {
      "cell_type": "code",
      "execution_count": null,
      "metadata": {
        "id": "L4ppMc8oxCBV"
      },
      "outputs": [],
      "source": [
        "def volumeCubo(x):\n",
        "  return x**3\n",
        "\n",
        "def pesoCubo(l,d):\n",
        "  return volumeCubo(l) * d \n",
        "\n",
        "print(pesoCubo(1,2.7*1000),\"kg\")"
      ]
    },
    {
      "cell_type": "code",
      "execution_count": null,
      "metadata": {
        "id": "gRn6lKf2xDV0"
      },
      "outputs": [],
      "source": [
        "import random\n",
        "lst1 = [x + (x % 2) for _ in range(100) for x in [random.randint(1, 100)]]\n",
        "lst1 = list(map(lambda x: 0 if x%6 == 0 else x , lst1))\n",
        "print(lst1)"
      ]
    },
    {
      "cell_type": "code",
      "execution_count": null,
      "metadata": {
        "id": "rdkxvDNNxNvm"
      },
      "outputs": [],
      "source": [
        "import random\n",
        "val = int(input(\"\"))\n",
        "lst1 = [x + (x % 2) for _ in range(100) for x in [random.randint(1, 100)]]\n",
        "print(lst1)\n",
        "lst1 = list(filter(lambda x: x >  val,lst1))\n",
        "print(lst1)"
      ]
    },
    {
      "cell_type": "code",
      "execution_count": null,
      "metadata": {
        "id": "ZN7Id-X3xOF-"
      },
      "outputs": [],
      "source": []
    }
  ],
  "metadata": {
    "colab": {
      "collapsed_sections": [],
      "name": "verifica 2 correzione.ipynb",
      "provenance": []
    },
    "kernelspec": {
      "display_name": "Python 3",
      "name": "python3"
    },
    "language_info": {
      "name": "python"
    }
  },
  "nbformat": 4,
  "nbformat_minor": 0
}
