{
  "nbformat": 4,
  "nbformat_minor": 0,
  "metadata": {
    "colab": {
      "name": "esercizio6.ipynb",
      "provenance": [],
      "collapsed_sections": [],
      "authorship_tag": "ABX9TyMFsidoMc70NBeDfRvY1ecn",
      "include_colab_link": true
    },
    "kernelspec": {
      "name": "python3",
      "display_name": "Python 3"
    },
    "language_info": {
      "name": "python"
    }
  },
  "cells": [
    {
      "cell_type": "markdown",
      "metadata": {
        "id": "view-in-github",
        "colab_type": "text"
      },
      "source": [
        "<a href=\"https://colab.research.google.com/github/Ghebr0us/python-appunti-esercizi/blob/main/esercizio6.ipynb\" target=\"_parent\"><img src=\"https://colab.research.google.com/assets/colab-badge.svg\" alt=\"Open In Colab\"/></a>"
      ]
    },
    {
      "cell_type": "markdown",
      "metadata": {
        "id": "yLTF7T6r-cRx"
      },
      "source": [
        "1. scrivere una funzione chiamata sommaTutti che permetta di sommare un numero arbitrario di valori interi passati come parametri. Scrivere poi un programma che permetta all'utente di inserire un numero variabile di interi e visualizzi la somma.\n"
      ]
    },
    {
      "cell_type": "code",
      "metadata": {
        "colab": {
          "base_uri": "https://localhost:8080/"
        },
        "id": "AyTa09tP-RWw",
        "outputId": "b8407943-5940-4bd1-bfa3-bd1078b9ac48"
      },
      "source": [
        "def sommaTutti(x):\n",
        "  return sum(x)\n",
        "num= [ int(i) for i in input().split()]\n",
        "sommaTutti(num)\n"
      ],
      "execution_count": null,
      "outputs": [
        {
          "name": "stdout",
          "output_type": "stream",
          "text": [
            "1 2 3\n"
          ]
        },
        {
          "output_type": "execute_result",
          "data": {
            "text/plain": [
              "6"
            ]
          },
          "metadata": {},
          "execution_count": 14
        }
      ]
    },
    {
      "cell_type": "markdown",
      "metadata": {
        "id": "9DQ7nYDe_Hky"
      },
      "source": [
        "2. scrivere una lambda function che calcoli la lunghezza della circonferenza di un cerchio dato il raggio. Utilizzarla poi in un programma che chieda all'utente il valore del raggio e visualizzi la lunghezza della circonferenza\n",
        "(raggio per 2π.)"
      ]
    },
    {
      "cell_type": "code",
      "metadata": {
        "id": "VD6896KY_LmB"
      },
      "source": [
        "import math\n",
        "\n",
        "circle = lambda x: math.pi*(x*2)\n",
        "print(circle(int(input(\"inserire il raggio: \"))))"
      ],
      "execution_count": null,
      "outputs": []
    },
    {
      "cell_type": "markdown",
      "metadata": {
        "id": "euo9d6ncC1Ra"
      },
      "source": [
        "3. scrivere una funzione che calcoli il quadrato di un numero. Scrivere poi una funzione che calcoli la radice quadrata della somma di due numeri. Scrivere poi una lambda function che date le lunghezze di due cateti di un triangolo calcoli l'ipotenusa utilizzando le funzioni definite precedentemente. Utilizzare quest'ultima funzione in un programma che permetta all'utente di inserire le lunghezze dei cateti e di avere in risposta la lunghezza dell'ipotenusa di un triangolo rettangolo\n"
      ]
    },
    {
      "cell_type": "code",
      "metadata": {
        "id": "PbLt684QC6lx"
      },
      "source": [
        "def quad(x):\n",
        "  return x**2\n",
        "def radice(x,y):\n",
        "  return pow(x+y,1/2)\n",
        "ipotenusa = lambda x,y: radice(quadrato(x),quadrato(y))\n",
        "\n",
        "print(ipotenusa(float(input(\"len1: \")),float(input(\"len2: \"))))"
      ],
      "execution_count": null,
      "outputs": []
    },
    {
      "cell_type": "markdown",
      "metadata": {
        "id": "KE2rJMqcGckZ"
      },
      "source": [
        "4. Scrivere le funzioni quadrato, cubo e radiceQuadrata che calcolano il quadrato, il cubo e la radice quadrata di un numero intero. Scrivere poi un programma che, utilizzando un ciclo for, richiami le tre funzioni su un valore intero inserito dall'utente e visualizzi i tre risultati."
      ]
    },
    {
      "cell_type": "code",
      "metadata": {
        "id": "6XbbXyagypwk"
      },
      "source": [
        "def quadrato(q):\n",
        "  return x**2\n",
        "\n",
        "def cubo(c):\n",
        "  return x**3\n",
        "\n",
        "def radice(r):\n",
        "  return x**(1/2)\n",
        "  \n",
        "numero = int(input(\"numero: \"))\n",
        "\n",
        "for i in range(0,1):\n",
        "  print(quadrato(numero))\n",
        "  print(cubo(numero))\n",
        "  print(radice(numero))"
      ],
      "execution_count": null,
      "outputs": []
    },
    {
      "cell_type": "markdown",
      "metadata": {
        "id": "wZXXprve1LWe"
      },
      "source": [
        "5. Utilizzando una lambda function, scrivere un programma che data una lista di numeri interi inserita dall'utente carichi in altre due liste i quadrati e i cubi dei numeri presenti nella lista inserita. Al termine, visualizzare le due liste."
      ]
    },
    {
      "cell_type": "code",
      "metadata": {
        "id": "e6Bi0dMx3qjL"
      },
      "source": [
        "lst = [int(s) for s in input().split()]\n",
        "cubo= list(map(lambda x:x**2,lst))\n",
        "print(cubo)\n",
        "list(map(lambda y:y**3,lst))"
      ],
      "execution_count": null,
      "outputs": []
    },
    {
      "cell_type": "markdown",
      "metadata": {
        "id": "ADWSuCfZ8-64"
      },
      "source": [
        "6. Utilizzando una lambda function, scrivere un programma che data una lista di numeri interi inserita dall'utente carichi in altre due liste i numeri pari e i numeri dispari presenti nella lista inserita. Al termine, visualizzare le due liste."
      ]
    },
    {
      "cell_type": "code",
      "metadata": {
        "id": "aAgxi7rP9CfX"
      },
      "source": [
        "lst1= [int(s) for s in input().split()]\n",
        "print(list(filter(lambda x:x%2==0,lst1)))\n",
        "print(list(filter(lambda x:x%2!=0,lst1)))"
      ],
      "execution_count": null,
      "outputs": []
    },
    {
      "cell_type": "markdown",
      "metadata": {
        "id": "Z0H6YFA3ExhR"
      },
      "source": [
        "7. Cercare su internet che cosa si intende per fattoriale di un numero. "
      ]
    },
    {
      "cell_type": "code",
      "metadata": {
        "id": "lMoyw17fEx04"
      },
      "source": [
        "fattoriale = lambda n: 1 if n == 0 else n * fattoriale(n-1)\n",
        "print(fattoriale(int(input())))"
      ],
      "execution_count": null,
      "outputs": []
    },
    {
      "cell_type": "markdown",
      "metadata": {
        "id": "awVD66SmEyH1"
      },
      "source": [
        "8. Svolgere l'esercizio 7, senza ricorsione"
      ]
    },
    {
      "cell_type": "code",
      "metadata": {
        "id": "prgPc9nEEyYc"
      },
      "source": [
        ""
      ],
      "execution_count": null,
      "outputs": []
    },
    {
      "cell_type": "markdown",
      "metadata": {
        "id": "OazmQNiGEyqO"
      },
      "source": [
        "9. Cercare su internet che cosa sono i numeri di Fibonacci. Scrivere poi una funzione ricorsiva che calcoli l'n-esimo numero della sequenza di Fibonacci. Utilizzare poi la funzione creata per scrivere un programma che permetta all'utente di inserire un numero intero e che visualizzi il numero della sequenza di Fibonacci corrispondente."
      ]
    },
    {
      "cell_type": "code",
      "metadata": {
        "id": "LrvbvYRzEy_W"
      },
      "source": [
        "fibonacci= int(input())\n",
        "def fibo(n):\n",
        "    if(n <= 2):\n",
        "        return 1\n",
        "    else:\n",
        "        a=1\n",
        "        b=1\n",
        "        for i in range(0,n):\n",
        "            c=a+b\n",
        "            a=b\n",
        "            b=c\n",
        "        return c\n",
        "\n",
        "fibo(fibonacci)"
      ],
      "execution_count": null,
      "outputs": []
    }
  ]
}