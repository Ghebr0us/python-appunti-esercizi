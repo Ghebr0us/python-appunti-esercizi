{
  "nbformat": 4,
  "nbformat_minor": 0,
  "metadata": {
    "colab": {
      "name": "GEOPANDAS_ESERCIZIO_2(ITALIA).ipynb",
      "provenance": [],
      "collapsed_sections": []
    },
    "kernelspec": {
      "name": "python3",
      "display_name": "Python 3"
    },
    "language_info": {
      "name": "python"
    }
  },
  "cells": [
    {
      "cell_type": "code",
      "source": [
        "!pip install geopandas"
      ],
      "metadata": {
        "colab": {
          "base_uri": "https://localhost:8080/"
        },
        "id": "yoyZZlmu_mh2",
        "outputId": "2999ae8e-31e4-4b76-fe17-4880b80ef81a"
      },
      "execution_count": null,
      "outputs": [
        {
          "output_type": "stream",
          "name": "stdout",
          "text": [
            "Requirement already satisfied: geopandas in /usr/local/lib/python3.7/dist-packages (0.10.2)\n",
            "Requirement already satisfied: shapely>=1.6 in /usr/local/lib/python3.7/dist-packages (from geopandas) (1.8.0)\n",
            "Requirement already satisfied: pandas>=0.25.0 in /usr/local/lib/python3.7/dist-packages (from geopandas) (1.1.5)\n",
            "Requirement already satisfied: fiona>=1.8 in /usr/local/lib/python3.7/dist-packages (from geopandas) (1.8.20)\n",
            "Requirement already satisfied: pyproj>=2.2.0 in /usr/local/lib/python3.7/dist-packages (from geopandas) (3.2.1)\n",
            "Requirement already satisfied: munch in /usr/local/lib/python3.7/dist-packages (from fiona>=1.8->geopandas) (2.5.0)\n",
            "Requirement already satisfied: setuptools in /usr/local/lib/python3.7/dist-packages (from fiona>=1.8->geopandas) (57.4.0)\n",
            "Requirement already satisfied: attrs>=17 in /usr/local/lib/python3.7/dist-packages (from fiona>=1.8->geopandas) (21.4.0)\n",
            "Requirement already satisfied: six>=1.7 in /usr/local/lib/python3.7/dist-packages (from fiona>=1.8->geopandas) (1.15.0)\n",
            "Requirement already satisfied: click>=4.0 in /usr/local/lib/python3.7/dist-packages (from fiona>=1.8->geopandas) (7.1.2)\n",
            "Requirement already satisfied: click-plugins>=1.0 in /usr/local/lib/python3.7/dist-packages (from fiona>=1.8->geopandas) (1.1.1)\n",
            "Requirement already satisfied: cligj>=0.5 in /usr/local/lib/python3.7/dist-packages (from fiona>=1.8->geopandas) (0.7.2)\n",
            "Requirement already satisfied: certifi in /usr/local/lib/python3.7/dist-packages (from fiona>=1.8->geopandas) (2021.10.8)\n",
            "Requirement already satisfied: numpy>=1.15.4 in /usr/local/lib/python3.7/dist-packages (from pandas>=0.25.0->geopandas) (1.19.5)\n",
            "Requirement already satisfied: python-dateutil>=2.7.3 in /usr/local/lib/python3.7/dist-packages (from pandas>=0.25.0->geopandas) (2.8.2)\n",
            "Requirement already satisfied: pytz>=2017.2 in /usr/local/lib/python3.7/dist-packages (from pandas>=0.25.0->geopandas) (2018.9)\n"
          ]
        }
      ]
    },
    {
      "cell_type": "code",
      "source": [
        "%matplotlib inline\n",
        "\n",
        "import pandas as pd\n",
        "import geopandas"
      ],
      "metadata": {
        "id": "V5KUpO2f_uq-"
      },
      "execution_count": null,
      "outputs": []
    },
    {
      "cell_type": "code",
      "source": [
        "from google.colab import drive\n",
        "drive.mount('/content/gdrive')"
      ],
      "metadata": {
        "colab": {
          "base_uri": "https://localhost:8080/"
        },
        "id": "bxueWygT_xc9",
        "outputId": "c18bf8a1-7653-4a23-bcff-b9557a01ef54"
      },
      "execution_count": null,
      "outputs": [
        {
          "output_type": "stream",
          "name": "stdout",
          "text": [
            "Mounted at /content/gdrive\n"
          ]
        }
      ]
    },
    {
      "cell_type": "code",
      "source": [
        "!pip install contextily"
      ],
      "metadata": {
        "colab": {
          "base_uri": "https://localhost:8080/"
        },
        "id": "nBngJqRqB4GN",
        "outputId": "08a160d3-5d10-4669-fa12-1b503d8f22c9"
      },
      "execution_count": null,
      "outputs": [
        {
          "output_type": "stream",
          "name": "stdout",
          "text": [
            "Collecting contextily\n",
            "  Downloading contextily-1.2.0-py3-none-any.whl (16 kB)\n",
            "Requirement already satisfied: matplotlib in /usr/local/lib/python3.7/dist-packages (from contextily) (3.2.2)\n",
            "Requirement already satisfied: pillow in /usr/local/lib/python3.7/dist-packages (from contextily) (7.1.2)\n",
            "Collecting xyzservices\n",
            "  Downloading xyzservices-2022.1.0-py3-none-any.whl (35 kB)\n",
            "Collecting rasterio\n",
            "  Downloading rasterio-1.2.10-cp37-cp37m-manylinux1_x86_64.whl (19.3 MB)\n",
            "\u001b[K     |████████████████████████████████| 19.3 MB 1.2 MB/s \n",
            "\u001b[?25hRequirement already satisfied: requests in /usr/local/lib/python3.7/dist-packages (from contextily) (2.23.0)\n",
            "Collecting mercantile\n",
            "  Downloading mercantile-1.2.1-py3-none-any.whl (14 kB)\n",
            "Requirement already satisfied: geopy in /usr/local/lib/python3.7/dist-packages (from contextily) (1.17.0)\n",
            "Requirement already satisfied: joblib in /usr/local/lib/python3.7/dist-packages (from contextily) (1.1.0)\n",
            "Requirement already satisfied: geographiclib<2,>=1.49 in /usr/local/lib/python3.7/dist-packages (from geopy->contextily) (1.52)\n",
            "Requirement already satisfied: cycler>=0.10 in /usr/local/lib/python3.7/dist-packages (from matplotlib->contextily) (0.11.0)\n",
            "Requirement already satisfied: pyparsing!=2.0.4,!=2.1.2,!=2.1.6,>=2.0.1 in /usr/local/lib/python3.7/dist-packages (from matplotlib->contextily) (3.0.6)\n",
            "Requirement already satisfied: python-dateutil>=2.1 in /usr/local/lib/python3.7/dist-packages (from matplotlib->contextily) (2.8.2)\n",
            "Requirement already satisfied: kiwisolver>=1.0.1 in /usr/local/lib/python3.7/dist-packages (from matplotlib->contextily) (1.3.2)\n",
            "Requirement already satisfied: numpy>=1.11 in /usr/local/lib/python3.7/dist-packages (from matplotlib->contextily) (1.19.5)\n",
            "Requirement already satisfied: six>=1.5 in /usr/local/lib/python3.7/dist-packages (from python-dateutil>=2.1->matplotlib->contextily) (1.15.0)\n",
            "Requirement already satisfied: click>=3.0 in /usr/local/lib/python3.7/dist-packages (from mercantile->contextily) (7.1.2)\n",
            "Requirement already satisfied: certifi in /usr/local/lib/python3.7/dist-packages (from rasterio->contextily) (2021.10.8)\n",
            "Requirement already satisfied: click-plugins in /usr/local/lib/python3.7/dist-packages (from rasterio->contextily) (1.1.1)\n",
            "Requirement already satisfied: cligj>=0.5 in /usr/local/lib/python3.7/dist-packages (from rasterio->contextily) (0.7.2)\n",
            "Requirement already satisfied: setuptools in /usr/local/lib/python3.7/dist-packages (from rasterio->contextily) (57.4.0)\n",
            "Collecting affine\n",
            "  Downloading affine-2.3.0-py2.py3-none-any.whl (15 kB)\n",
            "Collecting snuggs>=1.4.1\n",
            "  Downloading snuggs-1.4.7-py3-none-any.whl (5.4 kB)\n",
            "Requirement already satisfied: attrs in /usr/local/lib/python3.7/dist-packages (from rasterio->contextily) (21.4.0)\n",
            "Requirement already satisfied: urllib3!=1.25.0,!=1.25.1,<1.26,>=1.21.1 in /usr/local/lib/python3.7/dist-packages (from requests->contextily) (1.24.3)\n",
            "Requirement already satisfied: idna<3,>=2.5 in /usr/local/lib/python3.7/dist-packages (from requests->contextily) (2.10)\n",
            "Requirement already satisfied: chardet<4,>=3.0.2 in /usr/local/lib/python3.7/dist-packages (from requests->contextily) (3.0.4)\n",
            "Installing collected packages: snuggs, affine, xyzservices, rasterio, mercantile, contextily\n",
            "Successfully installed affine-2.3.0 contextily-1.2.0 mercantile-1.2.1 rasterio-1.2.10 snuggs-1.4.7 xyzservices-2022.1.0\n"
          ]
        }
      ]
    },
    {
      "cell_type": "code",
      "source": [
        "import contextily as ctx"
      ],
      "metadata": {
        "id": "wTm2BCRsBu62"
      },
      "execution_count": null,
      "outputs": []
    },
    {
      "cell_type": "markdown",
      "source": [
        "**1. visualizzi la mappa d'Italia con tutte le regioni. Fare in modo che i confini delle regioni siano in blu e che sia visibile al di sotto delle regioni la cartina geografica dell'Italia**"
      ],
      "metadata": {
        "id": "0gavGzxv_iq3"
      }
    },
    {
      "cell_type": "code",
      "source": [
        "regioni = geopandas.read_file(\"/content/gdrive/MyDrive/Colab Notebooks/Limiti01012021_g/Reg01012021_g/Reg01012021_g_WGS84.dbf\").to_crs(epsg = 3857)\n",
        "regioni"
      ],
      "metadata": {
        "colab": {
          "base_uri": "https://localhost:8080/",
          "height": 677
        },
        "id": "nb6himtVG7AF",
        "outputId": "2b64aac7-6b50-497c-db27-85e79ac232c8"
      },
      "execution_count": null,
      "outputs": [
        {
          "output_type": "execute_result",
          "data": {
            "text/html": [
              "\n",
              "  <div id=\"df-c080fbd3-e555-40d9-8f39-14aa2d42a92a\">\n",
              "    <div class=\"colab-df-container\">\n",
              "      <div>\n",
              "<style scoped>\n",
              "    .dataframe tbody tr th:only-of-type {\n",
              "        vertical-align: middle;\n",
              "    }\n",
              "\n",
              "    .dataframe tbody tr th {\n",
              "        vertical-align: top;\n",
              "    }\n",
              "\n",
              "    .dataframe thead th {\n",
              "        text-align: right;\n",
              "    }\n",
              "</style>\n",
              "<table border=\"1\" class=\"dataframe\">\n",
              "  <thead>\n",
              "    <tr style=\"text-align: right;\">\n",
              "      <th></th>\n",
              "      <th>COD_RIP</th>\n",
              "      <th>COD_REG</th>\n",
              "      <th>DEN_REG</th>\n",
              "      <th>Shape_Leng</th>\n",
              "      <th>Shape_Area</th>\n",
              "      <th>geometry</th>\n",
              "    </tr>\n",
              "  </thead>\n",
              "  <tbody>\n",
              "    <tr>\n",
              "      <th>0</th>\n",
              "      <td>1</td>\n",
              "      <td>1</td>\n",
              "      <td>Piemonte</td>\n",
              "      <td>1.235512e+06</td>\n",
              "      <td>2.539390e+10</td>\n",
              "      <td>POLYGON ((940622.942 5854658.550, 941958.480 5...</td>\n",
              "    </tr>\n",
              "    <tr>\n",
              "      <th>1</th>\n",
              "      <td>1</td>\n",
              "      <td>2</td>\n",
              "      <td>Valle d'Aosta</td>\n",
              "      <td>3.109681e+05</td>\n",
              "      <td>3.258838e+09</td>\n",
              "      <td>POLYGON ((844755.963 5775663.263, 844893.962 5...</td>\n",
              "    </tr>\n",
              "    <tr>\n",
              "      <th>2</th>\n",
              "      <td>1</td>\n",
              "      <td>3</td>\n",
              "      <td>Lombardia</td>\n",
              "      <td>1.410223e+06</td>\n",
              "      <td>2.386232e+10</td>\n",
              "      <td>MULTIPOLYGON (((981438.909 5625033.644, 981200...</td>\n",
              "    </tr>\n",
              "    <tr>\n",
              "      <th>3</th>\n",
              "      <td>2</td>\n",
              "      <td>4</td>\n",
              "      <td>Trentino-Alto Adige</td>\n",
              "      <td>8.008937e+05</td>\n",
              "      <td>1.360755e+10</td>\n",
              "      <td>POLYGON ((1358666.935 5956209.526, 1358841.301...</td>\n",
              "    </tr>\n",
              "    <tr>\n",
              "      <th>4</th>\n",
              "      <td>2</td>\n",
              "      <td>5</td>\n",
              "      <td>Veneto</td>\n",
              "      <td>1.054587e+06</td>\n",
              "      <td>1.834355e+10</td>\n",
              "      <td>POLYGON ((1392151.013 5889736.446, 1392164.766...</td>\n",
              "    </tr>\n",
              "    <tr>\n",
              "      <th>5</th>\n",
              "      <td>2</td>\n",
              "      <td>6</td>\n",
              "      <td>Friuli Venezia Giulia</td>\n",
              "      <td>6.700448e+05</td>\n",
              "      <td>7.933911e+09</td>\n",
              "      <td>MULTIPOLYGON (((1533468.183 5718178.568, 15334...</td>\n",
              "    </tr>\n",
              "    <tr>\n",
              "      <th>6</th>\n",
              "      <td>1</td>\n",
              "      <td>7</td>\n",
              "      <td>Liguria</td>\n",
              "      <td>8.205420e+05</td>\n",
              "      <td>5.414612e+09</td>\n",
              "      <td>MULTIPOLYGON (((1096643.374 5469063.377, 10966...</td>\n",
              "    </tr>\n",
              "    <tr>\n",
              "      <th>7</th>\n",
              "      <td>2</td>\n",
              "      <td>8</td>\n",
              "      <td>Emilia-Romagna</td>\n",
              "      <td>1.176188e+06</td>\n",
              "      <td>2.244275e+10</td>\n",
              "      <td>MULTIPOLYGON (((1166717.621 5494813.378, 11667...</td>\n",
              "    </tr>\n",
              "    <tr>\n",
              "      <th>8</th>\n",
              "      <td>3</td>\n",
              "      <td>9</td>\n",
              "      <td>Toscana</td>\n",
              "      <td>1.306596e+06</td>\n",
              "      <td>2.298352e+10</td>\n",
              "      <td>MULTIPOLYGON (((1237283.608 5199871.704, 12374...</td>\n",
              "    </tr>\n",
              "    <tr>\n",
              "      <th>9</th>\n",
              "      <td>3</td>\n",
              "      <td>10</td>\n",
              "      <td>Umbria</td>\n",
              "      <td>6.197684e+05</td>\n",
              "      <td>8.464380e+09</td>\n",
              "      <td>MULTIPOLYGON (((1383833.946 5402420.627, 13837...</td>\n",
              "    </tr>\n",
              "    <tr>\n",
              "      <th>10</th>\n",
              "      <td>3</td>\n",
              "      <td>11</td>\n",
              "      <td>Marche</td>\n",
              "      <td>6.261785e+05</td>\n",
              "      <td>9.400594e+09</td>\n",
              "      <td>POLYGON ((1421364.793 5460172.766, 1421451.237...</td>\n",
              "    </tr>\n",
              "    <tr>\n",
              "      <th>11</th>\n",
              "      <td>3</td>\n",
              "      <td>12</td>\n",
              "      <td>Lazio</td>\n",
              "      <td>1.054578e+06</td>\n",
              "      <td>1.722679e+10</td>\n",
              "      <td>MULTIPOLYGON (((1497832.929 4981002.176, 14975...</td>\n",
              "    </tr>\n",
              "    <tr>\n",
              "      <th>12</th>\n",
              "      <td>4</td>\n",
              "      <td>13</td>\n",
              "      <td>Abruzzo</td>\n",
              "      <td>6.153465e+05</td>\n",
              "      <td>1.082885e+10</td>\n",
              "      <td>MULTIPOLYGON (((1584420.859 5230952.344, 15842...</td>\n",
              "    </tr>\n",
              "    <tr>\n",
              "      <th>13</th>\n",
              "      <td>4</td>\n",
              "      <td>14</td>\n",
              "      <td>Molise</td>\n",
              "      <td>4.338181e+05</td>\n",
              "      <td>4.461183e+09</td>\n",
              "      <td>POLYGON ((1652733.041 5166878.301, 1654113.798...</td>\n",
              "    </tr>\n",
              "    <tr>\n",
              "      <th>14</th>\n",
              "      <td>4</td>\n",
              "      <td>15</td>\n",
              "      <td>Campania</td>\n",
              "      <td>8.881667e+05</td>\n",
              "      <td>1.366325e+10</td>\n",
              "      <td>MULTIPOLYGON (((1702595.792 4869385.972, 17025...</td>\n",
              "    </tr>\n",
              "    <tr>\n",
              "      <th>15</th>\n",
              "      <td>4</td>\n",
              "      <td>16</td>\n",
              "      <td>Puglia</td>\n",
              "      <td>1.175757e+06</td>\n",
              "      <td>1.953616e+10</td>\n",
              "      <td>MULTIPOLYGON (((2017383.160 4848505.477, 20173...</td>\n",
              "    </tr>\n",
              "    <tr>\n",
              "      <th>16</th>\n",
              "      <td>4</td>\n",
              "      <td>17</td>\n",
              "      <td>Basilicata</td>\n",
              "      <td>6.142055e+05</td>\n",
              "      <td>1.007274e+10</td>\n",
              "      <td>MULTIPOLYGON (((1749395.291 4861090.610, 17493...</td>\n",
              "    </tr>\n",
              "    <tr>\n",
              "      <th>17</th>\n",
              "      <td>4</td>\n",
              "      <td>18</td>\n",
              "      <td>Calabria</td>\n",
              "      <td>8.378109e+05</td>\n",
              "      <td>1.521607e+10</td>\n",
              "      <td>MULTIPOLYGON (((1758985.958 4822071.146, 17589...</td>\n",
              "    </tr>\n",
              "    <tr>\n",
              "      <th>18</th>\n",
              "      <td>5</td>\n",
              "      <td>19</td>\n",
              "      <td>Sicilia</td>\n",
              "      <td>1.334638e+06</td>\n",
              "      <td>2.582376e+10</td>\n",
              "      <td>MULTIPOLYGON (((1398158.455 4233310.708, 13981...</td>\n",
              "    </tr>\n",
              "    <tr>\n",
              "      <th>19</th>\n",
              "      <td>5</td>\n",
              "      <td>20</td>\n",
              "      <td>Sardegna</td>\n",
              "      <td>1.438638e+06</td>\n",
              "      <td>2.409463e+10</td>\n",
              "      <td>MULTIPOLYGON (((936198.458 4702096.939, 936211...</td>\n",
              "    </tr>\n",
              "  </tbody>\n",
              "</table>\n",
              "</div>\n",
              "      <button class=\"colab-df-convert\" onclick=\"convertToInteractive('df-c080fbd3-e555-40d9-8f39-14aa2d42a92a')\"\n",
              "              title=\"Convert this dataframe to an interactive table.\"\n",
              "              style=\"display:none;\">\n",
              "        \n",
              "  <svg xmlns=\"http://www.w3.org/2000/svg\" height=\"24px\"viewBox=\"0 0 24 24\"\n",
              "       width=\"24px\">\n",
              "    <path d=\"M0 0h24v24H0V0z\" fill=\"none\"/>\n",
              "    <path d=\"M18.56 5.44l.94 2.06.94-2.06 2.06-.94-2.06-.94-.94-2.06-.94 2.06-2.06.94zm-11 1L8.5 8.5l.94-2.06 2.06-.94-2.06-.94L8.5 2.5l-.94 2.06-2.06.94zm10 10l.94 2.06.94-2.06 2.06-.94-2.06-.94-.94-2.06-.94 2.06-2.06.94z\"/><path d=\"M17.41 7.96l-1.37-1.37c-.4-.4-.92-.59-1.43-.59-.52 0-1.04.2-1.43.59L10.3 9.45l-7.72 7.72c-.78.78-.78 2.05 0 2.83L4 21.41c.39.39.9.59 1.41.59.51 0 1.02-.2 1.41-.59l7.78-7.78 2.81-2.81c.8-.78.8-2.07 0-2.86zM5.41 20L4 18.59l7.72-7.72 1.47 1.35L5.41 20z\"/>\n",
              "  </svg>\n",
              "      </button>\n",
              "      \n",
              "  <style>\n",
              "    .colab-df-container {\n",
              "      display:flex;\n",
              "      flex-wrap:wrap;\n",
              "      gap: 12px;\n",
              "    }\n",
              "\n",
              "    .colab-df-convert {\n",
              "      background-color: #E8F0FE;\n",
              "      border: none;\n",
              "      border-radius: 50%;\n",
              "      cursor: pointer;\n",
              "      display: none;\n",
              "      fill: #1967D2;\n",
              "      height: 32px;\n",
              "      padding: 0 0 0 0;\n",
              "      width: 32px;\n",
              "    }\n",
              "\n",
              "    .colab-df-convert:hover {\n",
              "      background-color: #E2EBFA;\n",
              "      box-shadow: 0px 1px 2px rgba(60, 64, 67, 0.3), 0px 1px 3px 1px rgba(60, 64, 67, 0.15);\n",
              "      fill: #174EA6;\n",
              "    }\n",
              "\n",
              "    [theme=dark] .colab-df-convert {\n",
              "      background-color: #3B4455;\n",
              "      fill: #D2E3FC;\n",
              "    }\n",
              "\n",
              "    [theme=dark] .colab-df-convert:hover {\n",
              "      background-color: #434B5C;\n",
              "      box-shadow: 0px 1px 3px 1px rgba(0, 0, 0, 0.15);\n",
              "      filter: drop-shadow(0px 1px 2px rgba(0, 0, 0, 0.3));\n",
              "      fill: #FFFFFF;\n",
              "    }\n",
              "  </style>\n",
              "\n",
              "      <script>\n",
              "        const buttonEl =\n",
              "          document.querySelector('#df-c080fbd3-e555-40d9-8f39-14aa2d42a92a button.colab-df-convert');\n",
              "        buttonEl.style.display =\n",
              "          google.colab.kernel.accessAllowed ? 'block' : 'none';\n",
              "\n",
              "        async function convertToInteractive(key) {\n",
              "          const element = document.querySelector('#df-c080fbd3-e555-40d9-8f39-14aa2d42a92a');\n",
              "          const dataTable =\n",
              "            await google.colab.kernel.invokeFunction('convertToInteractive',\n",
              "                                                     [key], {});\n",
              "          if (!dataTable) return;\n",
              "\n",
              "          const docLinkHtml = 'Like what you see? Visit the ' +\n",
              "            '<a target=\"_blank\" href=https://colab.research.google.com/notebooks/data_table.ipynb>data table notebook</a>'\n",
              "            + ' to learn more about interactive tables.';\n",
              "          element.innerHTML = '';\n",
              "          dataTable['output_type'] = 'display_data';\n",
              "          await google.colab.output.renderOutput(dataTable, element);\n",
              "          const docLink = document.createElement('div');\n",
              "          docLink.innerHTML = docLinkHtml;\n",
              "          element.appendChild(docLink);\n",
              "        }\n",
              "      </script>\n",
              "    </div>\n",
              "  </div>\n",
              "  "
            ],
            "text/plain": [
              "    COD_RIP  ...                                           geometry\n",
              "0         1  ...  POLYGON ((940622.942 5854658.550, 941958.480 5...\n",
              "1         1  ...  POLYGON ((844755.963 5775663.263, 844893.962 5...\n",
              "2         1  ...  MULTIPOLYGON (((981438.909 5625033.644, 981200...\n",
              "3         2  ...  POLYGON ((1358666.935 5956209.526, 1358841.301...\n",
              "4         2  ...  POLYGON ((1392151.013 5889736.446, 1392164.766...\n",
              "5         2  ...  MULTIPOLYGON (((1533468.183 5718178.568, 15334...\n",
              "6         1  ...  MULTIPOLYGON (((1096643.374 5469063.377, 10966...\n",
              "7         2  ...  MULTIPOLYGON (((1166717.621 5494813.378, 11667...\n",
              "8         3  ...  MULTIPOLYGON (((1237283.608 5199871.704, 12374...\n",
              "9         3  ...  MULTIPOLYGON (((1383833.946 5402420.627, 13837...\n",
              "10        3  ...  POLYGON ((1421364.793 5460172.766, 1421451.237...\n",
              "11        3  ...  MULTIPOLYGON (((1497832.929 4981002.176, 14975...\n",
              "12        4  ...  MULTIPOLYGON (((1584420.859 5230952.344, 15842...\n",
              "13        4  ...  POLYGON ((1652733.041 5166878.301, 1654113.798...\n",
              "14        4  ...  MULTIPOLYGON (((1702595.792 4869385.972, 17025...\n",
              "15        4  ...  MULTIPOLYGON (((2017383.160 4848505.477, 20173...\n",
              "16        4  ...  MULTIPOLYGON (((1749395.291 4861090.610, 17493...\n",
              "17        4  ...  MULTIPOLYGON (((1758985.958 4822071.146, 17589...\n",
              "18        5  ...  MULTIPOLYGON (((1398158.455 4233310.708, 13981...\n",
              "19        5  ...  MULTIPOLYGON (((936198.458 4702096.939, 936211...\n",
              "\n",
              "[20 rows x 6 columns]"
            ]
          },
          "metadata": {},
          "execution_count": 10
        }
      ]
    },
    {
      "cell_type": "code",
      "execution_count": null,
      "metadata": {
        "colab": {
          "base_uri": "https://localhost:8080/",
          "height": 289
        },
        "id": "SCc7hT2Y-f36",
        "outputId": "8bfd9f1c-705a-4151-b9ae-6ac80d1dd821"
      },
      "outputs": [
        {
          "output_type": "display_data",
          "data": {
            "image/png": "[encoded data removed]",
            "text/plain": [
              "<Figure size 432x288 with 1 Axes>"
            ]
          },
          "metadata": {
            "needs_background": "light"
          }
        }
      ],
      "source": [
        "ax = regioni = geopandas.read_file(\"/content/gdrive/MyDrive/Colab Notebooks/Limiti01012021_g/Reg01012021_g/Reg01012021_g_WGS84.dbf\").to_crs(epsg = 3857).plot(edgecolor = 'k',color ='none')\n",
        "ctx.add_basemap(ax)"
      ]
    },
    {
      "cell_type": "markdown",
      "source": [
        "**2. sostituire alla cartina geografica dell'Italia un altro tipo di mappa**"
      ],
      "metadata": {
        "id": "pR7WpIBEBKxG"
      }
    },
    {
      "cell_type": "code",
      "source": [
        "ax = regioni = geopandas.read_file(\"/content/gdrive/MyDrive/Colab Notebooks/Limiti01012021_g/Reg01012021_g/Reg01012021_g_WGS84.dbf\").to_crs(epsg = 3857).plot(edgecolor = 'k',color ='none')\n",
        "ctx.add_basemap(ax,source=ctx.providers.Stamen.TonerLite)"
      ],
      "metadata": {
        "colab": {
          "base_uri": "https://localhost:8080/",
          "height": 289
        },
        "id": "IS2SfA6TBNU-",
        "outputId": "6b41ef44-aac5-415f-f602-fc2961481f1f"
      },
      "execution_count": null,
      "outputs": [
        {
          "output_type": "display_data",
          "data": {
            "image/png": "[encoded data removed]",
            "text/plain": [
              "<Figure size 432x288 with 1 Axes>"
            ]
          },
          "metadata": {
            "needs_background": "light"
          }
        }
      ]
    },
    {
      "cell_type": "markdown",
      "source": [
        "**3. visualizzare le province della Lombardia su una mappa di contextily**"
      ],
      "metadata": {
        "id": "xxMNtcvsCeAF"
      }
    },
    {
      "cell_type": "code",
      "source": [
        "ax = Prov = geopandas.read_file(\"/content/gdrive/MyDrive/Colab Notebooks/Limiti01012021_g/ProvCM01012021_g/ProvCM01012021_g_WGS84.dbf\").to_crs(epsg = 3857)\n",
        "Prov"
      ],
      "metadata": {
        "colab": {
          "base_uri": "https://localhost:8080/",
          "height": 424
        },
        "id": "XTia9qznDDdU",
        "outputId": "e414627a-8825-43e0-9324-350955fb764f"
      },
      "execution_count": null,
      "outputs": [
        {
          "output_type": "execute_result",
          "data": {
            "text/html": [
              "\n",
              "  <div id=\"df-deb52c73-02e3-4b24-9e60-e3ecc0ca63ea\">\n",
              "    <div class=\"colab-df-container\">\n",
              "      <div>\n",
              "<style scoped>\n",
              "    .dataframe tbody tr th:only-of-type {\n",
              "        vertical-align: middle;\n",
              "    }\n",
              "\n",
              "    .dataframe tbody tr th {\n",
              "        vertical-align: top;\n",
              "    }\n",
              "\n",
              "    .dataframe thead th {\n",
              "        text-align: right;\n",
              "    }\n",
              "</style>\n",
              "<table border=\"1\" class=\"dataframe\">\n",
              "  <thead>\n",
              "    <tr style=\"text-align: right;\">\n",
              "      <th></th>\n",
              "      <th>COD_RIP</th>\n",
              "      <th>COD_REG</th>\n",
              "      <th>COD_PROV</th>\n",
              "      <th>COD_CM</th>\n",
              "      <th>COD_UTS</th>\n",
              "      <th>DEN_PROV</th>\n",
              "      <th>DEN_CM</th>\n",
              "      <th>DEN_UTS</th>\n",
              "      <th>SIGLA</th>\n",
              "      <th>TIPO_UTS</th>\n",
              "      <th>Shape_Leng</th>\n",
              "      <th>Shape_Area</th>\n",
              "      <th>geometry</th>\n",
              "    </tr>\n",
              "  </thead>\n",
              "  <tbody>\n",
              "    <tr>\n",
              "      <th>0</th>\n",
              "      <td>1</td>\n",
              "      <td>1</td>\n",
              "      <td>1</td>\n",
              "      <td>201</td>\n",
              "      <td>201</td>\n",
              "      <td>-</td>\n",
              "      <td>Torino</td>\n",
              "      <td>Torino</td>\n",
              "      <td>TO</td>\n",
              "      <td>Citta metropolitana</td>\n",
              "      <td>539249.811270</td>\n",
              "      <td>6.828137e+09</td>\n",
              "      <td>POLYGON ((874864.806 5716094.699, 875224.455 5...</td>\n",
              "    </tr>\n",
              "    <tr>\n",
              "      <th>1</th>\n",
              "      <td>1</td>\n",
              "      <td>1</td>\n",
              "      <td>2</td>\n",
              "      <td>0</td>\n",
              "      <td>2</td>\n",
              "      <td>Vercelli</td>\n",
              "      <td>-</td>\n",
              "      <td>Vercelli</td>\n",
              "      <td>VC</td>\n",
              "      <td>Provincia</td>\n",
              "      <td>418078.067821</td>\n",
              "      <td>2.082097e+09</td>\n",
              "      <td>POLYGON ((913316.880 5770047.041, 914339.417 5...</td>\n",
              "    </tr>\n",
              "    <tr>\n",
              "      <th>2</th>\n",
              "      <td>1</td>\n",
              "      <td>1</td>\n",
              "      <td>3</td>\n",
              "      <td>0</td>\n",
              "      <td>3</td>\n",
              "      <td>Novara</td>\n",
              "      <td>-</td>\n",
              "      <td>Novara</td>\n",
              "      <td>NO</td>\n",
              "      <td>Provincia</td>\n",
              "      <td>250242.112077</td>\n",
              "      <td>1.341318e+09</td>\n",
              "      <td>POLYGON ((945868.173 5754640.498, 946211.372 5...</td>\n",
              "    </tr>\n",
              "    <tr>\n",
              "      <th>3</th>\n",
              "      <td>1</td>\n",
              "      <td>1</td>\n",
              "      <td>4</td>\n",
              "      <td>0</td>\n",
              "      <td>4</td>\n",
              "      <td>Cuneo</td>\n",
              "      <td>-</td>\n",
              "      <td>Cuneo</td>\n",
              "      <td>CN</td>\n",
              "      <td>Provincia</td>\n",
              "      <td>490111.881318</td>\n",
              "      <td>6.898443e+09</td>\n",
              "      <td>MULTIPOLYGON (((831185.838 5585837.915, 831553...</td>\n",
              "    </tr>\n",
              "    <tr>\n",
              "      <th>4</th>\n",
              "      <td>1</td>\n",
              "      <td>1</td>\n",
              "      <td>5</td>\n",
              "      <td>0</td>\n",
              "      <td>5</td>\n",
              "      <td>Asti</td>\n",
              "      <td>-</td>\n",
              "      <td>Asti</td>\n",
              "      <td>AT</td>\n",
              "      <td>Provincia</td>\n",
              "      <td>315563.261771</td>\n",
              "      <td>1.508947e+09</td>\n",
              "      <td>POLYGON ((895766.249 5641718.703, 895645.093 5...</td>\n",
              "    </tr>\n",
              "    <tr>\n",
              "      <th>...</th>\n",
              "      <td>...</td>\n",
              "      <td>...</td>\n",
              "      <td>...</td>\n",
              "      <td>...</td>\n",
              "      <td>...</td>\n",
              "      <td>...</td>\n",
              "      <td>...</td>\n",
              "      <td>...</td>\n",
              "      <td>...</td>\n",
              "      <td>...</td>\n",
              "      <td>...</td>\n",
              "      <td>...</td>\n",
              "      <td>...</td>\n",
              "    </tr>\n",
              "    <tr>\n",
              "      <th>102</th>\n",
              "      <td>1</td>\n",
              "      <td>1</td>\n",
              "      <td>103</td>\n",
              "      <td>0</td>\n",
              "      <td>103</td>\n",
              "      <td>Verbano-Cusio-Ossola</td>\n",
              "      <td>-</td>\n",
              "      <td>Verbano-Cusio-Ossola</td>\n",
              "      <td>VB</td>\n",
              "      <td>Provincia</td>\n",
              "      <td>299029.117691</td>\n",
              "      <td>2.262164e+09</td>\n",
              "      <td>POLYGON ((940622.942 5854658.550, 941958.480 5...</td>\n",
              "    </tr>\n",
              "    <tr>\n",
              "      <th>103</th>\n",
              "      <td>1</td>\n",
              "      <td>3</td>\n",
              "      <td>108</td>\n",
              "      <td>0</td>\n",
              "      <td>108</td>\n",
              "      <td>Monza e della Brianza</td>\n",
              "      <td>-</td>\n",
              "      <td>Monza e della Brianza</td>\n",
              "      <td>MB</td>\n",
              "      <td>Provincia</td>\n",
              "      <td>126272.490811</td>\n",
              "      <td>4.055793e+08</td>\n",
              "      <td>POLYGON ((1030143.619 5738854.212, 1030780.027...</td>\n",
              "    </tr>\n",
              "    <tr>\n",
              "      <th>104</th>\n",
              "      <td>3</td>\n",
              "      <td>11</td>\n",
              "      <td>109</td>\n",
              "      <td>0</td>\n",
              "      <td>109</td>\n",
              "      <td>Fermo</td>\n",
              "      <td>-</td>\n",
              "      <td>Fermo</td>\n",
              "      <td>FM</td>\n",
              "      <td>Provincia</td>\n",
              "      <td>198635.321418</td>\n",
              "      <td>8.619365e+08</td>\n",
              "      <td>POLYGON ((1529847.574 5356842.000, 1530755.170...</td>\n",
              "    </tr>\n",
              "    <tr>\n",
              "      <th>105</th>\n",
              "      <td>4</td>\n",
              "      <td>16</td>\n",
              "      <td>110</td>\n",
              "      <td>0</td>\n",
              "      <td>110</td>\n",
              "      <td>Barletta-Andria-Trani</td>\n",
              "      <td>-</td>\n",
              "      <td>Barletta-Andria-Trani</td>\n",
              "      <td>BT</td>\n",
              "      <td>Provincia</td>\n",
              "      <td>237762.889058</td>\n",
              "      <td>1.542032e+09</td>\n",
              "      <td>POLYGON ((1776160.661 5077503.435, 1776374.788...</td>\n",
              "    </tr>\n",
              "    <tr>\n",
              "      <th>106</th>\n",
              "      <td>5</td>\n",
              "      <td>20</td>\n",
              "      <td>111</td>\n",
              "      <td>0</td>\n",
              "      <td>111</td>\n",
              "      <td>Sud Sardegna</td>\n",
              "      <td>-</td>\n",
              "      <td>Sud Sardegna</td>\n",
              "      <td>SU</td>\n",
              "      <td>Provincia</td>\n",
              "      <td>718678.626322</td>\n",
              "      <td>6.526258e+09</td>\n",
              "      <td>MULTIPOLYGON (((936198.458 4702096.939, 936211...</td>\n",
              "    </tr>\n",
              "  </tbody>\n",
              "</table>\n",
              "<p>107 rows × 13 columns</p>\n",
              "</div>\n",
              "      <button class=\"colab-df-convert\" onclick=\"convertToInteractive('df-deb52c73-02e3-4b24-9e60-e3ecc0ca63ea')\"\n",
              "              title=\"Convert this dataframe to an interactive table.\"\n",
              "              style=\"display:none;\">\n",
              "        \n",
              "  <svg xmlns=\"http://www.w3.org/2000/svg\" height=\"24px\"viewBox=\"0 0 24 24\"\n",
              "       width=\"24px\">\n",
              "    <path d=\"M0 0h24v24H0V0z\" fill=\"none\"/>\n",
              "    <path d=\"M18.56 5.44l.94 2.06.94-2.06 2.06-.94-2.06-.94-.94-2.06-.94 2.06-2.06.94zm-11 1L8.5 8.5l.94-2.06 2.06-.94-2.06-.94L8.5 2.5l-.94 2.06-2.06.94zm10 10l.94 2.06.94-2.06 2.06-.94-2.06-.94-.94-2.06-.94 2.06-2.06.94z\"/><path d=\"M17.41 7.96l-1.37-1.37c-.4-.4-.92-.59-1.43-.59-.52 0-1.04.2-1.43.59L10.3 9.45l-7.72 7.72c-.78.78-.78 2.05 0 2.83L4 21.41c.39.39.9.59 1.41.59.51 0 1.02-.2 1.41-.59l7.78-7.78 2.81-2.81c.8-.78.8-2.07 0-2.86zM5.41 20L4 18.59l7.72-7.72 1.47 1.35L5.41 20z\"/>\n",
              "  </svg>\n",
              "      </button>\n",
              "      \n",
              "  <style>\n",
              "    .colab-df-container {\n",
              "      display:flex;\n",
              "      flex-wrap:wrap;\n",
              "      gap: 12px;\n",
              "    }\n",
              "\n",
              "    .colab-df-convert {\n",
              "      background-color: #E8F0FE;\n",
              "      border: none;\n",
              "      border-radius: 50%;\n",
              "      cursor: pointer;\n",
              "      display: none;\n",
              "      fill: #1967D2;\n",
              "      height: 32px;\n",
              "      padding: 0 0 0 0;\n",
              "      width: 32px;\n",
              "    }\n",
              "\n",
              "    .colab-df-convert:hover {\n",
              "      background-color: #E2EBFA;\n",
              "      box-shadow: 0px 1px 2px rgba(60, 64, 67, 0.3), 0px 1px 3px 1px rgba(60, 64, 67, 0.15);\n",
              "      fill: #174EA6;\n",
              "    }\n",
              "\n",
              "    [theme=dark] .colab-df-convert {\n",
              "      background-color: #3B4455;\n",
              "      fill: #D2E3FC;\n",
              "    }\n",
              "\n",
              "    [theme=dark] .colab-df-convert:hover {\n",
              "      background-color: #434B5C;\n",
              "      box-shadow: 0px 1px 3px 1px rgba(0, 0, 0, 0.15);\n",
              "      filter: drop-shadow(0px 1px 2px rgba(0, 0, 0, 0.3));\n",
              "      fill: #FFFFFF;\n",
              "    }\n",
              "  </style>\n",
              "\n",
              "      <script>\n",
              "        const buttonEl =\n",
              "          document.querySelector('#df-deb52c73-02e3-4b24-9e60-e3ecc0ca63ea button.colab-df-convert');\n",
              "        buttonEl.style.display =\n",
              "          google.colab.kernel.accessAllowed ? 'block' : 'none';\n",
              "\n",
              "        async function convertToInteractive(key) {\n",
              "          const element = document.querySelector('#df-deb52c73-02e3-4b24-9e60-e3ecc0ca63ea');\n",
              "          const dataTable =\n",
              "            await google.colab.kernel.invokeFunction('convertToInteractive',\n",
              "                                                     [key], {});\n",
              "          if (!dataTable) return;\n",
              "\n",
              "          const docLinkHtml = 'Like what you see? Visit the ' +\n",
              "            '<a target=\"_blank\" href=https://colab.research.google.com/notebooks/data_table.ipynb>data table notebook</a>'\n",
              "            + ' to learn more about interactive tables.';\n",
              "          element.innerHTML = '';\n",
              "          dataTable['output_type'] = 'display_data';\n",
              "          await google.colab.output.renderOutput(dataTable, element);\n",
              "          const docLink = document.createElement('div');\n",
              "          docLink.innerHTML = docLinkHtml;\n",
              "          element.appendChild(docLink);\n",
              "        }\n",
              "      </script>\n",
              "    </div>\n",
              "  </div>\n",
              "  "
            ],
            "text/plain": [
              "     COD_RIP  ...                                           geometry\n",
              "0          1  ...  POLYGON ((874864.806 5716094.699, 875224.455 5...\n",
              "1          1  ...  POLYGON ((913316.880 5770047.041, 914339.417 5...\n",
              "2          1  ...  POLYGON ((945868.173 5754640.498, 946211.372 5...\n",
              "3          1  ...  MULTIPOLYGON (((831185.838 5585837.915, 831553...\n",
              "4          1  ...  POLYGON ((895766.249 5641718.703, 895645.093 5...\n",
              "..       ...  ...                                                ...\n",
              "102        1  ...  POLYGON ((940622.942 5854658.550, 941958.480 5...\n",
              "103        1  ...  POLYGON ((1030143.619 5738854.212, 1030780.027...\n",
              "104        3  ...  POLYGON ((1529847.574 5356842.000, 1530755.170...\n",
              "105        4  ...  POLYGON ((1776160.661 5077503.435, 1776374.788...\n",
              "106        5  ...  MULTIPOLYGON (((936198.458 4702096.939, 936211...\n",
              "\n",
              "[107 rows x 13 columns]"
            ]
          },
          "metadata": {},
          "execution_count": 13
        }
      ]
    },
    {
      "cell_type": "code",
      "source": [
        "Lombardia = regioni[regioni.DEN_REG == 'Lombardia']\n",
        "Lombardia"
      ],
      "metadata": {
        "colab": {
          "base_uri": "https://localhost:8080/",
          "height": 183
        },
        "id": "krsgEVLeGTIe",
        "outputId": "94373d86-e334-4712-ad6d-82cdb2365fb4"
      },
      "execution_count": null,
      "outputs": [
        {
          "output_type": "error",
          "ename": "AttributeError",
          "evalue": "ignored",
          "traceback": [
            "\u001b[0;31m---------------------------------------------------------------------------\u001b[0m",
            "\u001b[0;31mAttributeError\u001b[0m                            Traceback (most recent call last)",
            "\u001b[0;32m<ipython-input-14-68e216074228>\u001b[0m in \u001b[0;36m<module>\u001b[0;34m()\u001b[0m\n\u001b[0;32m----> 1\u001b[0;31m \u001b[0mLombardia\u001b[0m \u001b[0;34m=\u001b[0m \u001b[0mregioni\u001b[0m\u001b[0;34m[\u001b[0m\u001b[0mregioni\u001b[0m\u001b[0;34m.\u001b[0m\u001b[0mDEN_REG\u001b[0m \u001b[0;34m==\u001b[0m \u001b[0;34m'Lombardia'\u001b[0m\u001b[0;34m]\u001b[0m\u001b[0;34m\u001b[0m\u001b[0;34m\u001b[0m\u001b[0m\n\u001b[0m\u001b[1;32m      2\u001b[0m \u001b[0mLombardia\u001b[0m\u001b[0;34m\u001b[0m\u001b[0;34m\u001b[0m\u001b[0m\n",
            "\u001b[0;31mAttributeError\u001b[0m: 'AxesSubplot' object has no attribute 'DEN_REG'"
          ]
        }
      ]
    },
    {
      "cell_type": "code",
      "source": [
        "Lombardia.geometry.squeeze()"
      ],
      "metadata": {
        "id": "hRgE_N1SIYt-"
      },
      "execution_count": null,
      "outputs": []
    },
    {
      "cell_type": "code",
      "source": [
        "ProvLom = Prov[Prov.within(Lombardia.geometry.squeeze())]\n",
        "ProvLom"
      ],
      "metadata": {
        "id": "Joxc6U9oJpXE"
      },
      "execution_count": null,
      "outputs": []
    },
    {
      "cell_type": "code",
      "source": [
        "ProvLom = Prov[Prov.within(Lombardia.geometry.squeeze())]   #within necessita di un oggetto geometrico e per convertire un oggetto da geografico a geometrico si usa geometry.squeeze()\n",
        "ProvLom.plot()"
      ],
      "metadata": {
        "id": "SAkja9fwH-cA"
      },
      "execution_count": null,
      "outputs": []
    },
    {
      "cell_type": "code",
      "source": [
        "ProvLom = Prov[Prov.within(Lombardia.geometry.squeeze())]   #within necessita di un oggetto geometrico e per convertire un oggetto da geografico a geometrico si usa geometry.squeeze()\n",
        "\n",
        "ax = Prov[Prov.within(Lombardia.geometry.squeeze())].to_crs(epsg = 3857).plot()\n",
        "\n",
        "ctx.add_basemap(ax)"
      ],
      "metadata": {
        "id": "XdOks4N5KVs0"
      },
      "execution_count": null,
      "outputs": []
    },
    {
      "cell_type": "markdown",
      "source": [
        "**4. visualizzare la provincia di Milano su una mappa di contextily con i confini amministrativi del comune di Milano. Usare colori adatti**"
      ],
      "metadata": {
        "id": "B_MslGAmI8Fs"
      }
    },
    {
      "cell_type": "code",
      "source": [
        "Milano = ProvLom[ProvLom.DEN_CM == 'Milano']\n",
        "Milano.plot()"
      ],
      "metadata": {
        "id": "d47vYiktI_Js"
      },
      "execution_count": null,
      "outputs": []
    },
    {
      "cell_type": "code",
      "source": [
        "Comuni = geopandas.read_file(\"/content/gdrive/MyDrive/Colab Notebooks/Limiti01012021_g/Com01012021_g/Com01012021_g_WGS84.dbf\").to_crs(epsg = 3857)\n",
        "Comuni"
      ],
      "metadata": {
        "id": "CmuG5r_PMRhF"
      },
      "execution_count": null,
      "outputs": []
    },
    {
      "cell_type": "code",
      "source": [
        "Milano = Comuni[Comuni.COMUNE == 'Milano']\n",
        "Milano"
      ],
      "metadata": {
        "id": "sOopRXX-Mpp0"
      },
      "execution_count": null,
      "outputs": []
    },
    {
      "cell_type": "code",
      "source": [
        "ax = ProvLom[ProvLom.DEN_CM == 'Milano'].to_crs(epsg = 3857).to_crs(epsg = 3857).plot(edgecolor = 'k',color ='none')\n",
        "\n",
        "Milano.plot(ax = ax)\n",
        "ctx.add_basemap(ax)"
      ],
      "metadata": {
        "id": "idJN-gr9LSBc"
      },
      "execution_count": null,
      "outputs": []
    },
    {
      "cell_type": "markdown",
      "source": [
        "**5. utilizzando le informazioni geografiche riguardanti i quartieri di Milano, visualizzare sia i confini di Milano sia i confini dei quartieri.**"
      ],
      "metadata": {
        "id": "fF1J4g2QNOlX"
      }
    },
    {
      "cell_type": "code",
      "source": [
        "Quartieri = geopandas.read_file(\"/content/gdrive/MyDrive/Colab Notebooks/ds964_nil_wm/NIL_WM.dbf\").to_crs(epsg = 3857)\n",
        "Quartieri"
      ],
      "metadata": {
        "id": "nL9APUqKNZfk"
      },
      "execution_count": null,
      "outputs": []
    },
    {
      "cell_type": "code",
      "source": [
        "ax = Quartieri_Milano = geopandas.read_file(\"/content/gdrive/MyDrive/Colab Notebooks/ds964_nil_wm/NIL_WM.dbf\").to_crs(epsg = 3857).plot(edgecolor = 'k',color ='none')\n",
        "ctx.add_basemap(ax)"
      ],
      "metadata": {
        "id": "CFQZu-twOs-M"
      },
      "execution_count": null,
      "outputs": []
    }
  ]
}