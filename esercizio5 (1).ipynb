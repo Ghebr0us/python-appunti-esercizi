{
  "nbformat": 4,
  "nbformat_minor": 0,
  "metadata": {
    "colab": {
      "name": "esercizio5.ipynb",
      "provenance": []
    },
    "kernelspec": {
      "name": "python3",
      "display_name": "Python 3"
    },
    "language_info": {
      "name": "python"
    }
  },
  "cells": [
    {
      "cell_type": "markdown",
      "metadata": {
        "id": "4yOvMiiFMbf7"
      },
      "source": [
        " 1. scrivere una funzione chiamata max che dati due numeri restituisca il più grande. Scrivere poi un programma che, utilizzando la funzione creata, trovi il massimo tra tre numeri inseriti dall'utente. \n"
      ]
    },
    {
      "cell_type": "code",
      "metadata": {
        "id": "oZRWXpJnMYTa"
      },
      "source": [
        "max = lambda a,b :a if  a > b else b\n",
        "max(max(int(input(\"inserire il primo valore: \")), int(input(\"scegli il secondo valore:\"))), int(input(\"scegli il terzo valore: \")))"
      ],
      "execution_count": null,
      "outputs": []
    },
    {
      "cell_type": "markdown",
      "metadata": {
        "id": "vM355jwtdKQp"
      },
      "source": [
        "2. scrivere una funzione chiamata sommaLista che data una lista di interi restituisca la somma di tutti gli elementi della lista. Scrivere poi un programma che, utilizzando la funzione create, trovi la somma degli elementi di una lista inserita dall'utente. \n"
      ]
    },
    {
      "cell_type": "code",
      "metadata": {
        "id": "N3XfzH33dL-8"
      },
      "source": [
        "def sommaLista(lista):\n",
        "\n",
        "  return sum(lista)\n",
        "\n",
        "n =   int(input(\"inserisci il numero di elementi \"))\n",
        "lista = [int(input(\"inserisci elemento: \"))for i in range(0,n)]\n",
        "\n",
        "sommaLista(lista)"
      ],
      "execution_count": null,
      "outputs": []
    },
    {
      "cell_type": "markdown",
      "metadata": {
        "id": "wFUvnGCvi6J3"
      },
      "source": [
        "3. utilizzando le funzioni create precedentemente, scrivere un programma che permetta all'utente di inserire tre liste e di avere il valore massimo della somma degli elementi delle tre liste.\n"
      ]
    },
    {
      "cell_type": "code",
      "metadata": {
        "id": "m_x33Bf4hda-"
      },
      "source": [
        "numeri1 =[int(s) for s in input(\"inserisci i valori: \").split()]\n",
        "numeri2 =[int(s) for s in input(\"inserisci i valori: \").split()]\n",
        "numeri3 =[int(s) for s in input(\"inserisci i valori: \").split()]\n",
        "max(max(sommaLista(numeri1),sommaLista(numeri2)),sommaLista(numeri3))"
      ],
      "execution_count": null,
      "outputs": []
    },
    {
      "cell_type": "markdown",
      "metadata": {
        "id": "6U1fjbS6j0SS"
      },
      "source": [
        "4. scrivere una funzione chiamata controlla che dato un numero e due estremi restituisca True se il numero è compreso tra i due estremi, false altrimenti. Utilizzare poi la funzione per trovare il numero di elementi di una lista di numeri interi (inserita dall'utente) compresi tra due estremi (inseriti anch'essi dall'utente)\n"
      ]
    },
    {
      "cell_type": "code",
      "metadata": {
        "colab": {
          "base_uri": "https://localhost:8080/"
        },
        "id": "uwCv8nzIj1ZA",
        "outputId": "7ae92bf8-14c7-404f-cd7b-84c433e2b7c8"
      },
      "source": [
        "mn=(int(input(\"inserire valore: \")))\n",
        "mx=(int(input(\"inserire valore: \")))\n",
        "controlla = [i for i in range(mn,mx)]\n",
        "print(controlla)\n",
        "numcentro=(int(input(\"inserire valore: \")))\n",
        "quantnum =[int(s) for s in input(\"inserisci i valori: \").split()]\n",
        "def verifica(quantnum):\n",
        "\n",
        "  return quantnum in controlla\n",
        "\n",
        "print(quantnum)\n",
        "\n",
        "\n",
        "\n",
        "#print(verifica(controlla)) #mostra false o true"
      ],
      "execution_count": 31,
      "outputs": [
        {
          "output_type": "stream",
          "name": "stdout",
          "text": [
            "inserire valore: 10\n",
            "inserire valore: 40\n",
            "[10, 11, 12, 13, 14, 15, 16, 17, 18, 19, 20, 21, 22, 23, 24, 25, 26, 27, 28, 29, 30, 31, 32, 33, 34, 35, 36, 37, 38, 39]\n",
            "inserire valore: 4\n",
            "inserisci i valori: 2 3 5 60 50 \n",
            "[2, 3, 5, 60, 50]\n"
          ]
        }
      ]
    },
    {
      "cell_type": "markdown",
      "metadata": {
        "id": "fh-DcLvero-r"
      },
      "source": [
        "5. utilizzare la funzione controlla creata precedentemente per scrivere un programma che, data una lista di numeri interi inserita  dall'utente, carichi in un'altra lista i numeri compresi tra due estremi inseriti anch'essi dall'utente."
      ]
    },
    {
      "cell_type": "code",
      "metadata": {
        "colab": {
          "base_uri": "https://localhost:8080/"
        },
        "id": "vdIw6mr1rtwt",
        "outputId": "048b087c-5e41-4dd7-a1d9-09cbc459d183"
      },
      "source": [
        "x =[int(s) for s in input(\"inserisci i valori: \").split()]\n",
        "min=(int(input(\"inserire valore: \")))\n",
        "max=(int(input(\"inserire valore: \")))\n",
        "controlla = [i for i in range(min,max)]\n",
        "controlla2 = []\n",
        "def verifica(controlla):\n",
        "\n",
        "  return  in controlla\n",
        "  print(controlla2)"
      ],
      "execution_count": 26,
      "outputs": [
        {
          "name": "stdout",
          "output_type": "stream",
          "text": [
            "inserisci i valori: 1 2 3 4 5\n",
            "inserire valore: 2 \n",
            "inserire valore: 5\n"
          ]
        }
      ]
    },
    {
      "cell_type": "markdown",
      "metadata": {
        "id": "RL-GaeFJ0ks6"
      },
      "source": [
        "6. scrivere una funzione chiamata confrontaListe che date due liste restituisca True se le due liste sono uguali, False altrimenti. Utilizzare poi la funzione in un programma che dica se una lista di interi è palindroma, cioè se può essere letta indifferentemente da sinistra a destra e da destra a sinistra. Ad esempio la lista [1, 2, 3, 4, 3, 2, 1] è palindroma, la lista [1, 2, 3, 4, 3,1, 2] non lo è.\n"
      ]
    },
    {
      "cell_type": "code",
      "metadata": {
        "id": "aYhk7EwJ0lKd"
      },
      "source": [
        "def confrontaListe(list1,list2):\n",
        "  return list1 == list2\n",
        "\n",
        "\n",
        "  lst1 = [int(s)for s in input(\"inserisci i valori: \").split()]\n",
        "  confrontaListe(lst1, lst1[::-1])"
      ],
      "execution_count": 27,
      "outputs": []
    },
    {
      "cell_type": "markdown",
      "metadata": {
        "id": "E4qK1fFv2GTE"
      },
      "source": [
        "7. scrivere una funzione chiamata celsiusToFahrenheit che data una temperatura in gradi Celsius restituisca il valore convertito in gradi Fahrenheit (per ulteriori info, google it). Scrivere poi un programma che data una lista di temperature in gradi Celsius,inserita dall'utente, converta tutte le temperature in gradi Fahrenheit.\n",
        " (C° * (9/5)) + 32\n",
        " \n"
      ]
    },
    {
      "cell_type": "code",
      "metadata": {
        "id": "-KBJk9wq2IHe"
      },
      "source": [
        "def celsiusToFahrenheit(x):\n",
        "  calc =[(i + 9/5)) + 32 for i in x]\n",
        "\n",
        "  return calc\n",
        "\n",
        "\n",
        "celsiusToFahrenheit([int(s)for s in input(\"inserisci i valori: \").split()])\n"
      ],
      "execution_count": null,
      "outputs": []
    },
    {
      "cell_type": "markdown",
      "metadata": {
        "id": "RDd-7JcB5EpQ"
      },
      "source": [
        "8. scrivere una funzione chiamata IMC che calcoli l'Indice di Massa Corporea a partire dal peso (in kg) e dall'altezza (in m). Utilizzare poi la funzione per scrivere un programma che date tre liste, contenente la prima una serie di nomi, la seconda una serie di pesi e la terza una serie di altezze, produca una quarta lista contenente i valori di IMC corrispondenti. Visualizzare poi i risultati nel seguente modo: \"<nome> pesa <peso kg, misura <altezza> m ed ha un IMC di <IMC>\" ( i valori nelle parentesi angolari vanno presi ovviamente dalle liste)\n"
      ]
    },
    {
      "cell_type": "code",
      "metadata": {
        "id": "7dlNbKS05GQH"
      },
      "source": [
        "def imc(m, h):\n",
        "  return round(m / h**2, 2)\n",
        "\n",
        "massa = [45, 49, 49, 54, 72, 110]\n",
        "altezza = [1.83, 1.39, 1.40, 1.65, 1.94, 1.79]\n",
        "nome = ['GIALUIGI', 'FRANCO', 'LUCA', 'MARIO', 'DOMENICO', 'MANDOLINO']\n",
        "\n",
        "def compose(m, h, n):\n",
        "  res = []\n",
        "  for i in range(len(m)):\n",
        "    res.append(\"{} pesa {}kg,  Ed è alto {}m ed ha un IMC di {}\".format(n[i], m[i], h[i], imc(m[i], h[i])))\n",
        "\n",
        "  return res\n",
        "\n",
        "print('\\n'.join(compose(massa, altezza, nome)))"
      ],
      "execution_count": null,
      "outputs": []
    },
    {
      "cell_type": "markdown",
      "metadata": {
        "id": "Bnqe26op7SAH"
      },
      "source": [
        "9: scrivere una lambda function per estrarre da una lista di numeri interi tutti i valori pari.\n"
      ]
    },
    {
      "cell_type": "code",
      "metadata": {
        "id": "T9eENPbq7SX9"
      },
      "source": [
        "lst1 = [0, 2, 3, 4, 5, 6, 7, 8, 9]\n",
        "res = lambda l: [n for n in l if n%2 == 0]\n",
        "print(res(lst1))"
      ],
      "execution_count": null,
      "outputs": []
    }
  ]
}