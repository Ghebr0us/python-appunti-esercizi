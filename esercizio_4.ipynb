{
  "nbformat": 4,
  "nbformat_minor": 0,
  "metadata": {
    "colab": {
      "name": "esercizio 4.ipynb",
      "provenance": [],
      "collapsed_sections": [],
      "authorship_tag": "ABX9TyPwxAB4n7DccW8uFMxR0zP/",
      "include_colab_link": true
    },
    "kernelspec": {
      "name": "python3",
      "display_name": "Python 3"
    },
    "language_info": {
      "name": "python"
    }
  },
  "cells": [
    {
      "cell_type": "markdown",
      "metadata": {
        "id": "view-in-github",
        "colab_type": "text"
      },
      "source": [
        "<a href=\"https://colab.research.google.com/github/Ghebr0us/python-appunti-esercizi/blob/main/esercizio_4.ipynb\" target=\"_parent\"><img src=\"https://colab.research.google.com/assets/colab-badge.svg\" alt=\"Open In Colab\"/></a>"
      ]
    },
    {
      "cell_type": "markdown",
      "metadata": {
        "id": "YNn05j0Wr300"
      },
      "source": [
        "1. scrivere una funzione chiamata media che dati due numeri restituisca la media. Utilizzare poi la funzione in un programma che acquisisca dall'utente due numeri e calcoli la media\n"
      ]
    },
    {
      "cell_type": "code",
      "metadata": {
        "id": "fufG2P-Srz53",
        "colab": {
          "base_uri": "https://localhost:8080/"
        },
        "outputId": "d06548e4-6b08-4116-8e5f-0e03505073b0"
      },
      "source": [
        "def media(num1, num2):\n",
        "  med = (num1 + num2)/2\n",
        "  return med\n",
        "media(int(input(\"primo numero :\")),int(input(\"secondo numero:\")))"
      ],
      "execution_count": 1,
      "outputs": [
        {
          "name": "stdout",
          "output_type": "stream",
          "text": [
            "primo numero :3\n",
            "secondo numero:4\n"
          ]
        },
        {
          "output_type": "execute_result",
          "data": {
            "text/plain": [
              "3.5"
            ]
          },
          "metadata": {},
          "execution_count": 1
        }
      ]
    },
    {
      "cell_type": "markdown",
      "metadata": {
        "id": "Kec9pMhbv0Bc"
      },
      "source": [
        "2. scrivere una funzione chiamata piuCorta che date due liste restituisca la lista con meno elementi. Utilizzare poi la funzione in un programma che acquisisca dall'utente due liste e visualizzi gli elementi della lista più corta.\n"
      ]
    },
    {
      "cell_type": "code",
      "metadata": {
        "colab": {
          "base_uri": "https://localhost:8080/"
        },
        "id": "K4PebwJWv2Q7",
        "outputId": "794aa884-bb8a-4225-ef28-c20abfa29c7d"
      },
      "source": [
        "def piuCorta(list1,list2):\n",
        "  piuCorta = min(list1,list2)\n",
        "  return piuCorta\n",
        "lst =[]\n",
        "n = int(input(\"inserisci il numero di elementi: \"))\n",
        "for i in range (0,n):\n",
        "  ele = str(input())\n",
        "  lst.append(ele)\n",
        "print(lst)\n",
        "\n",
        "lst2 =[]\n",
        "n2 = int(input(\"inserisci il numero di elementi: \"))\n",
        "for i in range (0,n2):\n",
        "  ele = str(input())\n",
        "  lst2.append(ele)\n",
        "print(lst2)\n",
        "piuCorta(lst,lst2)"
      ],
      "execution_count": 2,
      "outputs": [
        {
          "output_type": "stream",
          "name": "stdout",
          "text": [
            "inserisci il numero di elementi: 4\n",
            "1\n",
            "2\n",
            "3\n",
            "4\n",
            "['1', '2', '3', '4']\n",
            "inserisci il numero di elementi: 3\n",
            "1\n",
            "4\n",
            "6\n",
            "['1', '4', '6']\n"
          ]
        },
        {
          "output_type": "execute_result",
          "data": {
            "text/plain": [
              "['1', '2', '3', '4']"
            ]
          },
          "metadata": {},
          "execution_count": 2
        }
      ]
    },
    {
      "cell_type": "markdown",
      "metadata": {
        "id": "ERA58KrpxiLb"
      },
      "source": [
        "3. scrivere una funzione chiamata costruisciLista che dati due numeri interi restituisca la lista formata da tutti i numeri interi compresi tra i due numeri dati. Utilizzare poi la funzione in un programma che acquisisca dall'utente due numeri e visualizzi la lista formata da tutti i numeri interi compresi tra i due numeri dati ma a partire dal più grande fino al più piccolo."
      ]
    },
    {
      "cell_type": "code",
      "metadata": {
        "id": "Uund3tEixkoD",
        "colab": {
          "base_uri": "https://localhost:8080/"
        },
        "outputId": "79ac6e02-75fc-471e-8e93-86932daaaf3a"
      },
      "source": [
        "def costruisciLista(x,y):\n",
        "  z = [i for i in range(x+1,y)]\n",
        "  z.reverse()\n",
        "  return z\n",
        "costruisciLista(int(input(\"prima lista :\")),int(input(\"seconda lista:\")))"
      ],
      "execution_count": 3,
      "outputs": [
        {
          "name": "stdout",
          "output_type": "stream",
          "text": [
            "prima lista :2\n",
            "seconda lista:5\n"
          ]
        },
        {
          "output_type": "execute_result",
          "data": {
            "text/plain": [
              "[4, 3]"
            ]
          },
          "metadata": {},
          "execution_count": 3
        }
      ]
    },
    {
      "cell_type": "markdown",
      "metadata": {
        "id": "sOkMnBDb8JwT"
      },
      "source": [
        "4. scrivere una funzione chiamata valoreAssoluto che dato un numero restituisca il suo valore assoluto. Utilizzare poi questa funzione per determinare il valore assoluto degli elementi di una lista inserita dall'utente.\n"
      ]
    },
    {
      "cell_type": "code",
      "metadata": {
        "id": "YRVHkiZJ8M9L",
        "colab": {
          "base_uri": "https://localhost:8080/"
        },
        "outputId": "7c2addea-f20d-44a0-b0e1-d2ecf967296b"
      },
      "source": [
        "arr = input('inserisci la prima lista: ').split(',')\n",
        "\n",
        "def valore_assoluto(n):\n",
        "    return abs(n)\n",
        "\n",
        "\n",
        "print([valore_assoluto(float(i)) for i in arr])\n"
      ],
      "execution_count": 4,
      "outputs": [
        {
          "output_type": "stream",
          "name": "stdout",
          "text": [
            "inserisci la prima lista: 4\n",
            "[4.0]\n"
          ]
        }
      ]
    },
    {
      "cell_type": "markdown",
      "metadata": {
        "id": "n6VIUaWmA_Gr"
      },
      "source": [
        "5. scrivere una funzione chiamata scambia che data una lista scambi il primo elemento con l'ultimo, il secondo con il penultimo e così via. Utilizzare poi la funzione in un programma che acquisisca dall'utente una lista di 10 elementi e li visualizzi scambiati."
      ]
    },
    {
      "cell_type": "code",
      "metadata": {
        "id": "UynDIgf8BBMb",
        "colab": {
          "base_uri": "https://localhost:8080/"
        },
        "outputId": "72c477dd-9fd3-496a-9e41-fdfe5104ce43"
      },
      "source": [
        "def scambia():\n",
        "  y = [ ((input(\"inserisci l'elemento: \")))for  i in range(0,4)]\n",
        "  y.reverse()\n",
        "  return y\n",
        "scambia()"
      ],
      "execution_count": 5,
      "outputs": [
        {
          "name": "stdout",
          "output_type": "stream",
          "text": [
            "inserisci l'elemento: 1\n",
            "inserisci l'elemento: 2\n",
            "inserisci l'elemento: 5\n",
            "inserisci l'elemento: 6\n"
          ]
        },
        {
          "output_type": "execute_result",
          "data": {
            "text/plain": [
              "['6', '5', '2', '1']"
            ]
          },
          "metadata": {},
          "execution_count": 5
        }
      ]
    },
    {
      "cell_type": "markdown",
      "metadata": {
        "id": "BpmVs53xs9wJ"
      },
      "source": [
        "6. scrivere una funzione lambda che dati due numeri calcoli la loro somma. Utilizzare la funzione in un programma che chieda all'utente due numeri interi e visualizzi la loro somma."
      ]
    },
    {
      "cell_type": "code",
      "metadata": {
        "colab": {
          "base_uri": "https://localhost:8080/"
        },
        "id": "ZaERQ-30tIKW",
        "outputId": "9c525224-a843-4e9b-f1f1-dd4e7aadff21"
      },
      "source": [
        "math = lambda x,y: x + y\n",
        "\n",
        "math(int(input('')), int(input('')))"
      ],
      "execution_count": 6,
      "outputs": [
        {
          "name": "stdout",
          "output_type": "stream",
          "text": [
            "4\n",
            "9\n"
          ]
        },
        {
          "output_type": "execute_result",
          "data": {
            "text/plain": [
              "13"
            ]
          },
          "metadata": {},
          "execution_count": 6
        }
      ]
    },
    {
      "cell_type": "markdown",
      "metadata": {
        "id": "QQKLPltRuCdZ"
      },
      "source": [
        "7. scrivere un programma che utilizzi una lambda function per aumentare di 10 unità tutti gli elementi di una lista di interi inserita dall'utente.\n"
      ]
    },
    {
      "cell_type": "code",
      "metadata": {
        "colab": {
          "base_uri": "https://localhost:8080/"
        },
        "id": "7nuBBfRzwitY",
        "outputId": "c7e9c8e3-62ed-489a-fc48-8bd530cf87c5"
      },
      "source": [
        "lst = [ int(input(\"inserisci l'elemento: \"))for  i in range(0,4)]\n",
        "list(map(lambda x: x + 10, lst))\n"
      ],
      "execution_count": 7,
      "outputs": [
        {
          "name": "stdout",
          "output_type": "stream",
          "text": [
            "inserisci l'elemento: 1\n",
            "inserisci l'elemento: 2\n",
            "inserisci l'elemento: 3\n",
            "inserisci l'elemento: 4\n"
          ]
        },
        {
          "output_type": "execute_result",
          "data": {
            "text/plain": [
              "[11, 12, 13, 14]"
            ]
          },
          "metadata": {},
          "execution_count": 7
        }
      ]
    },
    {
      "cell_type": "markdown",
      "metadata": {
        "id": "eHbfa4Qc2mXt"
      },
      "source": [
        "8. scrivere una funzione lambda che sostituisca il valore 0 se il parametro è negativo, il valore del parametro se è positivo. Utilizzare poi la funzione in un programma che chieda all'utente i 10 elementi di una lista e visualizzi la lista con il valore 0 al posto dei numeri negativi."
      ]
    },
    {
      "cell_type": "code",
      "metadata": {
        "id": "NxK78CVN2mp9"
      },
      "source": [
        ""
      ],
      "execution_count": 7,
      "outputs": []
    },
    {
      "cell_type": "markdown",
      "metadata": {
        "id": "3s513Og04cbo"
      },
      "source": [
        "9. scrivere un programma che calcoli il fattoriale di un numero utilizzando una lambda function. Provare a realizzare una lambda function ricorsiva (per la ricorsione, google it...)"
      ]
    },
    {
      "cell_type": "code",
      "metadata": {
        "id": "ZRixY_fI4f-1"
      },
      "source": [
        "fattoriale = lambda n: 1 if n == 0 else n * fattoriale(n-1)\n",
        "fattoriale(10)"
      ],
      "execution_count": null,
      "outputs": []
    }
  ]
}