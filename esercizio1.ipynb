{
  "nbformat": 4,
  "nbformat_minor": 0,
  "metadata": {
    "colab": {
      "name": "Copia di Copia di esercizio1.ipynb",
      "provenance": [],
      "authorship_tag": "ABX9TyPhO6BeRNZnDfYI16aPn7bm",
      "include_colab_link": true
    },
    "kernelspec": {
      "name": "python3",
      "display_name": "Python 3"
    },
    "language_info": {
      "name": "python"
    }
  },
  "cells": [
    {
      "cell_type": "markdown",
      "metadata": {
        "id": "view-in-github",
        "colab_type": "text"
      },
      "source": [
        "<a href=\"https://colab.research.google.com/github/Ghebr0us/python-appunti-esercizi/blob/main/esercizio1.ipynb\" target=\"_parent\"><img src=\"https://colab.research.google.com/assets/colab-badge.svg\" alt=\"Open In Colab\"/></a>"
      ]
    },
    {
      "cell_type": "markdown",
      "metadata": {
        "id": "vMBMBOUJiO7f"
      },
      "source": [
        "a. far inserie all'utente due valori interi"
      ]
    },
    {
      "cell_type": "code",
      "metadata": {
        "colab": {
          "base_uri": "https://localhost:8080/"
        },
        "id": "js8XvDuuhWc0",
        "outputId": "74646585-2166-4607-da96-b50f27226f9d"
      },
      "source": [
        "num1 = int(input(\"inserire il num 1 :\"))\n",
        "num2 = int(input(\"inserire il num 2 :\"))\n"
      ],
      "execution_count": null,
      "outputs": [
        {
          "name": "stdout",
          "output_type": "stream",
          "text": [
            "inserire il num 1 :10\n",
            "inserire il num 2 :15\n"
          ]
        }
      ]
    },
    {
      "cell_type": "markdown",
      "metadata": {
        "id": "edi4zf7ljH0e"
      },
      "source": [
        "b. effettuare le 4 operazioni aritmetiche tra i due numeri\n"
      ]
    },
    {
      "cell_type": "code",
      "metadata": {
        "colab": {
          "base_uri": "https://localhost:8080/"
        },
        "id": "J3cxEMEnh2MS",
        "outputId": "486b05e0-98c1-4da6-e2b6-65884fb93cdc"
      },
      "source": [
        "num1 + num2, num1 - num2,  num1 * num2, num1 / num2\n",
        "\n"
      ],
      "execution_count": null,
      "outputs": [
        {
          "output_type": "execute_result",
          "data": {
            "text/plain": [
              "(25, -5, 150, 0.6666666666666666)"
            ]
          },
          "metadata": {},
          "execution_count": 2
        }
      ]
    },
    {
      "cell_type": "markdown",
      "metadata": {
        "id": "9vLOE49_j0FG"
      },
      "source": [
        "c. effettuare l'elevamento a potenza del primo numero per il secondo\n"
      ]
    },
    {
      "cell_type": "code",
      "metadata": {
        "colab": {
          "base_uri": "https://localhost:8080/"
        },
        "id": "yexbP0ghjyzP",
        "outputId": "576ceb15-b10e-4259-f660-b7764a5ebb87"
      },
      "source": [
        "num1**num2"
      ],
      "execution_count": null,
      "outputs": [
        {
          "output_type": "execute_result",
          "data": {
            "text/plain": [
              "1000000000000000"
            ]
          },
          "metadata": {},
          "execution_count": 3
        }
      ]
    },
    {
      "cell_type": "markdown",
      "metadata": {
        "id": "Cre5ZT73ue21"
      },
      "source": [
        "d. effettuare il calcolo del resto della divisione tra il primo e il secondo numero"
      ]
    },
    {
      "cell_type": "code",
      "metadata": {
        "colab": {
          "base_uri": "https://localhost:8080/"
        },
        "id": "CXkNZZLJlP6m",
        "outputId": "2d58a297-e7de-49d0-a620-7e73996787ee"
      },
      "source": [
        "divmod(num1,num2)"
      ],
      "execution_count": null,
      "outputs": [
        {
          "output_type": "execute_result",
          "data": {
            "text/plain": [
              "(0, 10)"
            ]
          },
          "metadata": {},
          "execution_count": 5
        }
      ]
    },
    {
      "cell_type": "markdown",
      "metadata": {
        "id": "SH7llrFEliIW"
      },
      "source": [
        "f. effettuare la divisione intera tra il primo e il secondo numero\n"
      ]
    },
    {
      "cell_type": "code",
      "metadata": {
        "colab": {
          "base_uri": "https://localhost:8080/"
        },
        "id": "bWCjwf9slfAW",
        "outputId": "b9c08d5d-521e-45b2-869b-1e7e8b5ed16d"
      },
      "source": [
        "num1//num2"
      ],
      "execution_count": null,
      "outputs": [
        {
          "output_type": "execute_result",
          "data": {
            "text/plain": [
              "0"
            ]
          },
          "metadata": {},
          "execution_count": 6
        }
      ]
    },
    {
      "cell_type": "markdown",
      "metadata": {
        "id": "-Ycmqjaalvjl"
      },
      "source": [
        "g. incrementare di una unità entrambi i numeri"
      ]
    },
    {
      "cell_type": "code",
      "metadata": {
        "colab": {
          "base_uri": "https://localhost:8080/"
        },
        "id": "Y6v-FMCKlwO1",
        "outputId": "d3abf47b-6568-4b53-a873-6dfab48897ef"
      },
      "source": [
        "num1= num1 + 1\n",
        "num2= num2 + 1\n",
        "print(num1,num2)"
      ],
      "execution_count": null,
      "outputs": [
        {
          "output_type": "stream",
          "name": "stdout",
          "text": [
            "11 16\n"
          ]
        }
      ]
    },
    {
      "cell_type": "markdown",
      "metadata": {
        "id": "Zos-mhrKnkGN"
      },
      "source": [
        "h. far inserie all'utente due valori: il primo rappresenta la sua altezza (in metri) e il secondo rappresenta il suo peso (in kg). Visualizzare poi l'IMC (google it...) "
      ]
    },
    {
      "cell_type": "code",
      "metadata": {
        "colab": {
          "base_uri": "https://localhost:8080/"
        },
        "id": "ICYFqTK_nkiF",
        "outputId": "14b8937c-321e-428a-a318-1798d711fee5"
      },
      "source": [
        "altezza =float(input(\"inserire propria altezza in m:\"))\n",
        "peso=float(input(\"inserire il proprio peso in kg:\"))\n",
        "IMC= (peso/ (altezza**2))\n",
        "print(IMC)"
      ],
      "execution_count": null,
      "outputs": [
        {
          "output_type": "stream",
          "name": "stdout",
          "text": [
            "inserire propria altezza in m:1.7\n",
            "inserire il proprio peso in kg:60\n",
            "20.761245674740486\n"
          ]
        }
      ]
    },
    {
      "cell_type": "code",
      "metadata": {
        "colab": {
          "base_uri": "https://localhost:8080/"
        },
        "id": "3aMPWjvJup5l",
        "outputId": "04288838-f92c-4cc8-c306-87282dd6d811"
      },
      "source": [
        "print(round(IMC))"
      ],
      "execution_count": null,
      "outputs": [
        {
          "output_type": "stream",
          "name": "stdout",
          "text": [
            "21\n"
          ]
        }
      ]
    },
    {
      "cell_type": "markdown",
      "metadata": {
        "id": "XXEVYTLmu_dG"
      },
      "source": [
        "j. visualizzare il proprio nome, cognome, data di nascita e città di nascita separando le informazioni con un trattino."
      ]
    },
    {
      "cell_type": "code",
      "metadata": {
        "colab": {
          "base_uri": "https://localhost:8080/"
        },
        "id": "ImlO6p_bvEHk",
        "outputId": "6e6212aa-3797-4734-dea3-9f85f946f951"
      },
      "source": [
        "trattino =\"-\"\n",
        "information= print(\"Davide\"+trattino+\"Ghebrous\"+ trattino +\"08/01/2005\"+ trattino + \"Milano\" )"
      ],
      "execution_count": null,
      "outputs": [
        {
          "output_type": "stream",
          "name": "stdout",
          "text": [
            "Davide-Ghebrous-08/01/2005-Milano\n"
          ]
        }
      ]
    },
    {
      "cell_type": "markdown",
      "metadata": {
        "id": "Iptl11NPwwzD"
      },
      "source": [
        "k. visualizzare le stesse informazioni per 10 volte di seguito"
      ]
    },
    {
      "cell_type": "code",
      "metadata": {
        "colab": {
          "base_uri": "https://localhost:8080/"
        },
        "id": "cje6_yTKwkzE",
        "outputId": "5c22a195-3202-4e8e-eb77-257a841eb3f0"
      },
      "source": [
        "trattino =\"-\"\n",
        "print((\"Davide\"+ trattino +\"Ghebrous\"+ trattino +\"08/01/2005\"+ trattino + \"Milano\")*10) "
      ],
      "execution_count": 3,
      "outputs": [
        {
          "output_type": "stream",
          "name": "stdout",
          "text": [
            "Davide-Ghebrous-08/01/2005-MilanoDavide-Ghebrous-08/01/2005-MilanoDavide-Ghebrous-08/01/2005-MilanoDavide-Ghebrous-08/01/2005-MilanoDavide-Ghebrous-08/01/2005-MilanoDavide-Ghebrous-08/01/2005-MilanoDavide-Ghebrous-08/01/2005-MilanoDavide-Ghebrous-08/01/2005-MilanoDavide-Ghebrous-08/01/2005-MilanoDavide-Ghebrous-08/01/2005-Milano\n"
          ]
        }
      ]
    },
    {
      "cell_type": "markdown",
      "metadata": {
        "id": "sB0PcUocx7Zr"
      },
      "source": [
        "l. assegnare il proprio nome e cognome ad una stringa e visualizzarla con tutte le lettere maiuscole"
      ]
    },
    {
      "cell_type": "code",
      "metadata": {
        "colab": {
          "base_uri": "https://localhost:8080/"
        },
        "id": "Z2_oM59oxre0",
        "outputId": "09de708c-40cd-4372-9cd9-081fbda68686"
      },
      "source": [
        "name = \"davide ghebrous\"\n",
        "print(name.upper())"
      ],
      "execution_count": null,
      "outputs": [
        {
          "output_type": "stream",
          "name": "stdout",
          "text": [
            "DAVIDE GHEBROUS\n"
          ]
        }
      ]
    },
    {
      "cell_type": "markdown",
      "metadata": {
        "id": "iAMQDmymyfdN"
      },
      "source": [
        "m. assegnare il proprio nome e cognome ad una stringa e visualizzarla con le prime lettere maiuscole"
      ]
    },
    {
      "cell_type": "code",
      "metadata": {
        "id": "mVGq8Uk0ygBs",
        "colab": {
          "base_uri": "https://localhost:8080/"
        },
        "outputId": "ab0ad9f7-a3f3-4223-a275-ed23f148d8f0"
      },
      "source": [
        "name = \"davide ghebrous\"\n",
        "print(name.title())"
      ],
      "execution_count": null,
      "outputs": [
        {
          "output_type": "stream",
          "name": "stdout",
          "text": [
            "Davide Ghebrous\n"
          ]
        }
      ]
    },
    {
      "cell_type": "markdown",
      "metadata": {
        "id": "HN9GCNKwuomy"
      },
      "source": [
        "n. assegnare il proprio nome e cognome ad una stringa e visualizzarne la lunghezza"
      ]
    },
    {
      "cell_type": "code",
      "metadata": {
        "colab": {
          "base_uri": "https://localhost:8080/"
        },
        "id": "Pu2xg3642K2m",
        "outputId": "9c3c5df5-609f-47d1-884a-3e064ae8083f"
      },
      "source": [
        "name = \"davide ghebrous\"\n",
        "print(\"The string '%sname' string is %d characters long\" % (name, len(name)) )"
      ],
      "execution_count": 4,
      "outputs": [
        {
          "output_type": "stream",
          "name": "stdout",
          "text": [
            "The string 'davide ghebrousname' string is 15 characters long\n"
          ]
        }
      ]
    },
    {
      "cell_type": "markdown",
      "metadata": {
        "id": "h6nxXmrO2Lbv"
      },
      "source": [
        "o. assegnare il proprio nome e cognome ad una stringa e contate quante vocali contiene"
      ]
    },
    {
      "cell_type": "code",
      "metadata": {
        "colab": {
          "base_uri": "https://localhost:8080/"
        },
        "id": "e7r4x75-uoEm",
        "outputId": "a344c1a1-36df-44ad-9fb9-7ec3406cb04e"
      },
      "source": [
        "name = \"davide ghebrous\"\n",
        "print(name.count(\"a\")+name.count(\"e\")+name.count(\"i\")+name.count(\"o\")+name.count(\"u\"))"
      ],
      "execution_count": 18,
      "outputs": [
        {
          "output_type": "stream",
          "name": "stdout",
          "text": [
            "6\n"
          ]
        }
      ]
    },
    {
      "cell_type": "markdown",
      "metadata": {
        "id": "jMztD16j4TjQ"
      },
      "source": [
        "p. assegnare il proprio nome e cognome ad una stringa e visualizzare i primi 5 caratteri\n"
      ]
    },
    {
      "cell_type": "code",
      "metadata": {
        "colab": {
          "base_uri": "https://localhost:8080/"
        },
        "id": "pfWPZrKU4V8K",
        "outputId": "3e2a047d-82f2-4490-9d2e-ee1acfcc71da"
      },
      "source": [
        "name = \"davide ghebrous\"\n",
        "print(\"le vocali all'interno della stringa sono: \",name[0:5])"
      ],
      "execution_count": 19,
      "outputs": [
        {
          "output_type": "stream",
          "name": "stdout",
          "text": [
            "le vocali all'interno della stringa sono:  david\n"
          ]
        }
      ]
    },
    {
      "cell_type": "markdown",
      "metadata": {
        "id": "kNcRoWDC-3Zn"
      },
      "source": [
        "q. assegnare il proprio nome e cognome ad una stringa e visualizzare gli ultimi 5 caratteri"
      ]
    },
    {
      "cell_type": "code",
      "metadata": {
        "colab": {
          "base_uri": "https://localhost:8080/"
        },
        "id": "yCui7Ipl-17X",
        "outputId": "7ddeb0f1-bc7a-487b-cbc5-74f947a48036"
      },
      "source": [
        "name = \"davide ghebrous\"\n",
        "print(\"le vocali all'interno della stringa sono: \",name[10:16])"
      ],
      "execution_count": 30,
      "outputs": [
        {
          "output_type": "stream",
          "name": "stdout",
          "text": [
            "le vocali all'interno della stringa sono:  brous\n"
          ]
        }
      ]
    },
    {
      "cell_type": "markdown",
      "metadata": {
        "id": "Q6DW0fQ8-9FX"
      },
      "source": [
        "r.. assegnare il proprio nome e cognome ad una stringa e visualizzare i 5 caratteri centrali"
      ]
    },
    {
      "cell_type": "code",
      "metadata": {
        "colab": {
          "base_uri": "https://localhost:8080/"
        },
        "id": "T-LYyWzC-9bS",
        "outputId": "426001e2-b5bd-4703-9ad7-24aa938cff23"
      },
      "source": [
        "name = \"davide ghebrous\"\n",
        "print(\"le vocali all'interno della stringa sono: \",name[4:9])"
      ],
      "execution_count": 32,
      "outputs": [
        {
          "output_type": "stream",
          "name": "stdout",
          "text": [
            "le vocali all'interno della stringa sono:  de gh\n"
          ]
        }
      ]
    },
    {
      "cell_type": "markdown",
      "metadata": {
        "id": "_UVUSOeH_Hre"
      },
      "source": [
        "s. assegnare il proprio nome e cognome ad una stringa e sostituire le vocali con una X"
      ]
    },
    {
      "cell_type": "code",
      "metadata": {
        "colab": {
          "base_uri": "https://localhost:8080/"
        },
        "id": "qooWr2B8_JXF",
        "outputId": "dc35e996-a9c8-4af4-bc0c-e1c5e1fff260"
      },
      "source": [
        "name = \"davide ghebrous\"\n",
        "print(name.replace(\"a\", \"x\").replace(\"e\", \"x\").replace(\"i\", \"x\").replace(\"o\", \"x\").replace(\"u\", \"x\"))\n"
      ],
      "execution_count": 37,
      "outputs": [
        {
          "output_type": "stream",
          "name": "stdout",
          "text": [
            "dxvxdx ghxbrxxs\n"
          ]
        }
      ]
    }
  ]
}