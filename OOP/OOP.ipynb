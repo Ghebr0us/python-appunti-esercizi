{
  "nbformat": 4,
  "nbformat_minor": 0,
  "metadata": {
    "colab": {
      "provenance": []
    },
    "kernelspec": {
      "name": "python3",
      "display_name": "Python 3"
    },
    "language_info": {
      "name": "python"
    }
  },
  "cells": [
    {
      "cell_type": "markdown",
      "source": [
        "# SUPER MARIO ESEMPIO"
      ],
      "metadata": {
        "id": "cpo2Abovwbg4"
      }
    },
    {
      "cell_type": "code",
      "execution_count": null,
      "metadata": {
        "colab": {
          "base_uri": "https://localhost:8080/"
        },
        "id": "Z6iKtOAQqqrL",
        "outputId": "a29610ae-2d27-438d-8e8a-2f9a10296775"
      },
      "outputs": [
        {
          "output_type": "stream",
          "name": "stdout",
          "text": [
            "(220, 120, 'tamburo')\n",
            "velocità massima: 220 velocità attuale: 120 freni a tamburo\n",
            "velocità massima: 220 velocità attuale: 125 freni a tamburo\n",
            "velocità massima: 220 velocità attuale: 220 freni a tamburo\n",
            "velocità massima: 220 velocità attuale: 210 freni a tamburo\n",
            "velocità massima: 220 velocità attuale: 200 freni a tamburo\n",
            "velocità massima: 220 velocità attuale: 190 freni a tamburo\n",
            "velocità massima: 220 velocità attuale: 180 freni a tamburo\n",
            "velocità massima: 220 velocità attuale: 170 freni a tamburo\n",
            "velocità massima: 220 velocità attuale: 160 freni a tamburo\n",
            "velocità massima: 220 velocità attuale: 150 freni a tamburo\n",
            "velocità massima: 220 velocità attuale: 140 freni a tamburo\n",
            "velocità massima: 220 velocità attuale: 130 freni a tamburo\n",
            "velocità massima: 220 velocità attuale: 120 freni a tamburo\n",
            "velocità massima: 220 velocità attuale: 110 freni a tamburo\n",
            "velocità massima: 220 velocità attuale: 100 freni a tamburo\n",
            "velocità massima: 220 velocità attuale: 90 freni a tamburo\n",
            "velocità massima: 220 velocità attuale: 80 freni a tamburo\n",
            "velocità massima: 220 velocità attuale: 70 freni a tamburo\n",
            "velocità massima: 220 velocità attuale: 60 freni a tamburo\n",
            "velocità massima: 220 velocità attuale: 50 freni a tamburo\n",
            "velocità massima: 220 velocità attuale: 40 freni a tamburo\n",
            "velocità massima: 220 velocità attuale: 30 freni a tamburo\n",
            "velocità massima: 220 velocità attuale: 20 freni a tamburo\n",
            "velocità massima: 220 velocità attuale: 10 freni a tamburo\n",
            "velocità massima: 220 velocità attuale: 0 freni a tamburo\n",
            "velocità massima: 220 velocità attuale: 0 freni a tamburo\n",
            "velocità massima: 220 velocità attuale: 0 freni a tamburo\n",
            "velocità massima: 220 velocità attuale: 0 freni a tamburo\n"
          ]
        }
      ],
      "source": [
        "class Automobile:\n",
        "    def __init__(self, vm: int, va: int, freno: str):\n",
        "        '''\n",
        "        vm velocità massima\n",
        "        va velocità attuale\n",
        "        freno tipo freno\n",
        "        '''\n",
        "        self._vm = max(vm,0)\n",
        "        self._va = max(va,0)\n",
        "        if freno == 'tamburo':\n",
        "            self._freno = 'tamburo'\n",
        "        else:\n",
        "            self._freno = 'disco'\n",
        "\n",
        "    def accelera(self,km: int):\n",
        "        ''' aumenta la velocià di km chilometri orari'''\n",
        "        if km <= 0:\n",
        "            return\n",
        "        self._va += km\n",
        "        if self._va > self._vm:\n",
        "            self._va = self._vm\n",
        "    \n",
        "    def frena(self):\n",
        "        ''' dipende dal tipo dei freni '''\n",
        "        if self._freno == 'disco':\n",
        "            self._va -= 20\n",
        "        else:\n",
        "            self._va -= 10\n",
        "        self._va = max(self._va,0)\n",
        "        \n",
        "    def to_tuple(self) -> tuple:\n",
        "        return self._vm, self._va, self._freno\n",
        "\n",
        "    def to_string(self) -> str:\n",
        "        s = 'velocità massima: ' + str(self._vm)\n",
        "        s += ' velocità attuale: ' + str(self._va)\n",
        "        s += ' freni a ' + self._freno\n",
        "        return s        \n",
        "        \n",
        "mario = Automobile(220,120,'tamburo')\n",
        "print(mario.to_tuple())\n",
        "print(mario.to_string())\n",
        "mario.accelera(5)\n",
        "print(mario.to_string())\n",
        "mario.accelera(500)\n",
        "print(mario.to_string())\n",
        "for i in range(25):\n",
        "    mario.frena()\n",
        "    print(mario.to_string())\n",
        "\n"
      ]
    },
    {
      "cell_type": "markdown",
      "source": [
        "# ESERCIZIO BENESSERE"
      ],
      "metadata": {
        "id": "8b7_j_gjwapf"
      }
    },
    {
      "cell_type": "code",
      "source": [
        "class Persona: #colleione di oggetti che hanno gli stessi attributi\n",
        "  def __init__(self,altezza, peso, sesso, vita, fianchi): #metodocostruttore\n",
        " #attributi (__privati)\n",
        "      self.__altezza = altezza\n",
        "      self.__peso = peso\n",
        "      self.__sesso = sesso\n",
        "      self.__vita = vita\n",
        "      self.__fianchi = fianchi\n",
        "\n",
        "  #Metodi set & get; per accedere agli attributi privati\n",
        "  def get_altezza(self):\n",
        "    return self.__altezza\n",
        "#------------------------------\n",
        "  def set_altezza(self, altezza):\n",
        "    if altezza > 0:\n",
        "      self.__altezza = altezza\n",
        "      return 0\n",
        "    else:\n",
        "      return -1\n",
        "#_______________________________\n",
        "\n",
        "  def get_peso(self):\n",
        "    return self.__peso\n",
        "    \n",
        "  def set_peso(self, peso):\n",
        "    if peso > 0:\n",
        "      self.__peso = peso\n",
        "      return 0\n",
        "    else:\n",
        "      return -1\n",
        "    \n",
        "  def get_vita(self):\n",
        "    return self.__vita\n",
        "\n",
        "  def set_vita(self, vita):\n",
        "    if vita > 0:\n",
        "      self.__vita = vita\n",
        "      return 0\n",
        "    else:\n",
        "      return -1\n",
        "\n",
        "  def get_fianchi(self):\n",
        "    return self.__fianchi\n",
        "\n",
        "  def set_fianchi(self, fianchi):\n",
        "    if fianchi > 0:\n",
        "      self.__peso = fianchi\n",
        "      return 0\n",
        "    else:\n",
        "      return -1\n",
        " #metodi generici della classe\n",
        "  def imc(self):\n",
        "    altezza_m = self.get_altezza() / 100.0\n",
        "    imc = self.get_peso() / altezza_m ** 2\n",
        "    return imc\n",
        "\n",
        "  def whr(self):\n",
        "    return self.get_vita() / self.get_fianchi()\n",
        "\n",
        "  def valutazione(self):\n",
        "    if self.imc() < 20:\n",
        "      return -1  #sottopeso\n",
        "    elif self.imc() > 24:\n",
        "      return 1 #sovrappeso\n",
        "    else:\n",
        "      return 0 #normopeso\n",
        "    \n",
        "#creazione di un oggetto = istanza di una classe\n",
        "ugo = Persona(189, 79, 'm', 90, 90)\n",
        "print(ugo.imc())\n",
        "print(ugo.valutazione())\n",
        "print(ugo.whr())\n",
        "print(ugo.set_altezza(ugo.get_altezza() +5))\n",
        "print(ugo.get_altezza())"
      ],
      "metadata": {
        "colab": {
          "base_uri": "https://localhost:8080/"
        },
        "id": "Iu7JAoB7waQf",
        "outputId": "35978578-6540-4d32-9d90-23fe1fb496ab"
      },
      "execution_count": null,
      "outputs": [
        {
          "output_type": "stream",
          "name": "stdout",
          "text": [
            "22.11584222166233\n",
            "0\n",
            "1.0\n",
            "0\n",
            "194\n"
          ]
        }
      ]
    },
    {
      "cell_type": "markdown",
      "source": [
        "# ES: creare una classe impiegato che abbia attributi privati: nome,cognome, anno assunzione e stipendio, e i metodi: cambia stipendio,che cambia lo stipendio dell'impiegato di una certa percentuale,il metodo calcola anzianità,che calcola gli anni dall'anno di assunzione e il metodo fornisci dettagli che fornisce una lista contenente tutti gli attrbuti dell'impiegato"
      ],
      "metadata": {
        "id": "QozOL0ubzb8a"
      }
    },
    {
      "cell_type": "code",
      "source": [
        "from datetime import datetime\n",
        "class Impiegato: #colleione di oggetti che hanno gli stessi attributi\n",
        "  def __init__(self,nome, cognome, anno_assunzione, stipendio): #metodocostruttore\n",
        " #attributi (__privati)\n",
        "      self.__nome = nome\n",
        "      self.__cognome = cognome\n",
        "      self.__annoA = datetime.strptime(anno_assunzione, \"%d/%m/%Y\")\n",
        "      self.__stipendio = stipendio\n",
        "\n",
        "\n",
        "\n",
        "\n",
        "\n",
        "\n",
        "\n",
        "\n",
        "\n",
        "  #Metodi set & get; per accedere agli attributi privati\n",
        "  def get_stipendio(self):\n",
        "    return self.__stipendio\n",
        "  #------------------------------------\n",
        "  def set_stipendio(self, stipendio):\n",
        "      self.__stipendio = stipendio\n",
        "#------------------------------\n",
        "  def cambia_stipendio(self, percentuale):\n",
        "      self.__stipendio = self.get_stipendio() + (self.get_stipendio() * percentuale) / 100\n",
        "      return self.__stipendio\n",
        "#_______________________________\n",
        "\n",
        "  def get_annoA(self):\n",
        "    return self.__annoA\n",
        "  #------------------------------------\n",
        "  def set_annoA(self, annoA):\n",
        "      self.__annoA = annoA\n",
        "#------------------------------\n",
        "  def calcola_anzianita(self, annoA):\n",
        "      x = datetime.now()\n",
        "      self.__stipendio = (x.year - annoA.year)\n",
        "      return self.__stipendio\n",
        "#_______________________________\n",
        "\n",
        "  def fornisci_dettagli(self):\n",
        "    return [self.__nome,self.__cognome,str(self.__annoA),self.__stipendio]\n",
        "\n",
        "\n",
        "ugo = Impiegato('Ugo','Rossi', '14/03/1996', 2000)\n",
        "print(ugo.get_stipendio())\n",
        "print(ugo.cambia_stipendio(5))\n",
        "print(ugo.calcola_anzianita(ugo.get_annoA()))\n",
        "print(ugo.fornisci_dettagli())"
      ],
      "metadata": {
        "colab": {
          "base_uri": "https://localhost:8080/"
        },
        "id": "KHlElyYV0OrD",
        "outputId": "bc0e06df-221d-410c-b2e8-798498655693"
      },
      "execution_count": null,
      "outputs": [
        {
          "output_type": "stream",
          "name": "stdout",
          "text": [
            "2000\n",
            "2100.0\n",
            "27\n",
            "['Ugo', 'Rossi', '1996-03-14 00:00:00', 27]\n"
          ]
        }
      ]
    },
    {
      "cell_type": "markdown",
      "source": [
        "# ES2 :creare una classe studenti con attributi privati; nome,cognome,classe,data_nascita e voti ed i metodi cambia_classe, aggiungi_voto, calcola_media,controllo_maggiorenne e passaggioClasseSuccessiva(uno studente passa alla classe successiva se ha tutte le materie sufficienti).\n",
        "scrivere poi un programma che uno inserisca uno studente e provi tutti i metodi."
      ],
      "metadata": {
        "id": "KP3o_mkJAVjp"
      }
    },
    {
      "cell_type": "code",
      "source": [
        "\n",
        "class Studente: #colleione di oggetti che hanno gli stessi attributi\n",
        "  \n",
        "  from datetime import datetime\n",
        "  def __init__(self,nome, cognome, classe, dataDiDNascita,voti): #metodocostruttore\n",
        " #attributi (__privati)\n",
        "      self.__nome = nome\n",
        "      self.__cognome = cognome\n",
        "      self.__classe = classe\n",
        "      self.__dataDiDNascita = datetime.strptime(dataDiDNascita, \"%d/%m/%Y\")\n",
        "      self.__voti = voti\n",
        "\n",
        "\n",
        "  #Metodi set & get; per accedere agli attributi privati\n",
        "  def setNome(self, nome):\n",
        "    if type(nome) == str and len(nome) > 0:\n",
        "      self.__nome = nome\n",
        "      return 1\n",
        "    else:\n",
        "      return -1\n",
        "  #------------------------------------\n",
        "  def getNome(self):\n",
        "      return self.__nome\n",
        "#_____________________________________________\n",
        "\n",
        "#. . . . . . . fare gli altri . . . . . . . . .\n",
        "#______________________________________________\n",
        "  def setVoti(self,voti):\n",
        "    self.__voti = voti\n",
        "    return 0\n",
        "  def getVoti(self):\n",
        "    return self.__voti\n",
        "#____________________________________________________\n",
        "\n",
        "  def calcoloMedia(self):\n",
        "    import statistics\n",
        "    return statistics.mean(self.getVoti())\n",
        "#____________________________________________________\n",
        "\n",
        "  def passaggioClasseSucc(self):\n",
        "  #   for voto in self.getVoti():\n",
        "  #     if voto >= 6:\n",
        "  #       return True\n",
        "  #     else:\n",
        "  #       return False\n",
        "#--------------------------------------\n",
        "    # esito = True\n",
        "    # for voto in self.getVoti():\n",
        "    #   if voto < 6:\n",
        "    #     esito = False\n",
        "    # return esito\n",
        "#----------------------------------------\n",
        "    esito = True\n",
        "    while esito == True:\n",
        "      #da finire\n",
        "      re\n",
        "#___________________________________________________\n",
        "alfio = Studente('Alfio','Song',4,'24/11/2004',[])#|\n",
        "print(alfio.getNome())                            #|\n",
        "alfio.setVoti([6.0,6.5,2.0,3.5])                  #|\n",
        "print(alfio.getVoti())                            #|\n",
        "print(alfio.calcoloMedia())                       #|\n",
        "print(alfio.passaggioClasseSucc())                #|"
      ],
      "metadata": {
        "id": "YQbC55JoA9VC",
        "colab": {
          "base_uri": "https://localhost:8080/"
        },
        "outputId": "d69ff80d-0ec0-43b9-ecc5-a69e94e1a083"
      },
      "execution_count": null,
      "outputs": [
        {
          "output_type": "stream",
          "name": "stdout",
          "text": [
            "Alfio\n",
            "[6.0, 6.5, 9.0, 7.5]\n",
            "7.25\n",
            "True\n"
          ]
        }
      ]
    },
    {
      "cell_type": "markdown",
      "source": [
        "# Situazione\n",
        "Si vuole modellizzare il serbatoio di una macchina che può contenere benzina o diesel fino ad una certa capacità massima (espressa in litri). Al serbatoio si può aggiungere liquido (senza superare ovviamente la capacità massima: nel caso si aggiungesse troppo liquido, il serbatoio si riempie e deve essere data l'indicazione di quanti litri non si sono potuti aggiungere) e si può togliere liquido (ovviamente non più di quanto ce n'è: nel caso si togliesse troppo liquido, deve essere data l'indicazione di quanti litri non si sono potuti togliere). Deve essere infine possibile sapere quanto liquido c'è nel serbatoio."
      ],
      "metadata": {
        "id": "_eWF1ZoPSPIj"
      }
    },
    {
      "cell_type": "markdown",
      "source": [
        " 1. creare la classe Serbatoio con i suoi attributi e i suoi metodi, dedotti dal testo"
      ],
      "metadata": {
        "id": "Uegl31WXSTsh"
      }
    },
    {
      "cell_type": "code",
      "source": [
        "class Serbatoio: #collezione di oggetti che hanno gli stessi attributi\n",
        "  def __init__(self,capMax, liquido): #metodocostruttore\n",
        " #attributi (__privati)\n",
        "      self.__capMax = capMax\n",
        "      self.__liquido = liquido\n",
        "\n",
        "\n",
        "\n",
        "  #Metodi set & get; per accedere agli attributi privati\n",
        "  def setLiquido(self, liquido):\n",
        "    if liquido < 0:\n",
        "      self.__liquido = 0\n",
        "      return -1\n",
        "    elif liquido > self.__capMax:\n",
        "      self.__liquido = self.__capacità\n",
        "      return -1\n",
        "    else:\n",
        "      self.__liquido = liquido\n",
        "      return 0\n",
        "  #------------------------------------\n",
        "  def getLiquido(self):\n",
        "      return self.__liquido\n",
        "#_____________________________________________\n",
        "  def setcapMax(self, capMax):\n",
        "    if type(capMax) == int and len(capMax) > 0:\n",
        "      self.__capMax = capMax\n",
        "      return 1\n",
        "    else:\n",
        "      return -1\n",
        "  #------------------------------------\n",
        "  def getcapMax(self):\n",
        "      return self.__capMax\n",
        "#_____________________________________________\n",
        "\n",
        "  def aggiungiLiquido(self,quantita:float):\n",
        "    # self.__liquido = self.getLiquido() + quantita\n",
        "    # if self.__liquido > self.__capMax:\n",
        "    #  self.__liquido = self.__capMax\n",
        "    #  return 1\n",
        "    # else:\n",
        "    #   return 0\n",
        "\n",
        "    if self.getLiquido() + quantita > self.getcapMax():\n",
        "      self.setLiquido(self.getcapMax())\n",
        "      return  self.getLiquido() + quantita - self.getcapMax()\n",
        "    else:\n",
        "        self.getLiquido(self.getLiquido() + quantita)\n",
        "    return 0\n",
        "\n",
        "\n",
        "    # -------------------------------------\n",
        "  def rimuoviLiquido(self,quantita:float):\n",
        "    self.__liquido = self.getLiquido() - quantita\n",
        "    if quantita > self.__liquido:\n",
        "     self.__liquido = 0\n",
        "     return 1\n",
        "    else:\n",
        "      return 0\n",
        "\n",
        "Riva = Serbatoio(50,0)\n",
        "print(Riva.aggiungiLiquido(70))\n",
        "print(Riva.getLiquido())"
      ],
      "metadata": {
        "colab": {
          "base_uri": "https://localhost:8080/"
        },
        "id": "0rwNaXIlSTVO",
        "outputId": "c2909e9d-6236-4e72-85a7-9899e10913b0"
      },
      "execution_count": null,
      "outputs": [
        {
          "output_type": "stream",
          "name": "stdout",
          "text": [
            "70\n",
            "50\n"
          ]
        }
      ]
    },
    {
      "cell_type": "markdown",
      "source": [
        "# SERBATOIO GIURATO"
      ],
      "metadata": {
        "id": "Bf5EJm8MqrBx"
      }
    },
    {
      "cell_type": "code",
      "source": [
        "class Fuel:\n",
        "  def __init__(self,capacita, liquido):\n",
        "    self.__capacita = capacita\n",
        "    self.__liquido = liquido\n",
        "\n",
        "  def setLiquido(self, liquido):\n",
        "    if liquido < 0:\n",
        "      self.__liquido = 0\n",
        "      return -1 #troppo poco liquido\n",
        "    elif liquido > self.__capacita:\n",
        "      self.__liquido = self.__capacita\n",
        "      return 1 #troppo liquido\n",
        "    else:\n",
        "      self.__liquido = liquido\n",
        "      return 0 #tutto ok\n",
        "\n",
        "  def getLiquido(self):\n",
        "    return self.__liquido\n",
        "\n",
        "  def setCapacita(self, capacita):\n",
        "    self.__capacita = capacita\n",
        "    return 0\n",
        "\n",
        "  def getCapacita(self):\n",
        "    return self.__capacita\n",
        "\n",
        "  def aggiungiLiquido(self, quantita: float):\n",
        "    if self.getLiquido() + quantita > self.getCapacita():\n",
        "      self.setLiquido(self.getCapacita())\n",
        "      return  self.getLiquido() + quantita - self.getCapacita()\n",
        "    else:\n",
        "      self.setLiquido(self.getLiquido() + quantita) \n",
        "      return 0\n",
        "\n",
        "\n",
        "  def rimuoviLiquido(self, quantita: float):\n",
        "    if self.getLiquido() - quantita < 0:\n",
        "      self.setLiquido(0)\n",
        "      return  quantita - self.getLiquido()\n",
        "    else:\n",
        "      self.setLiquido(self.getLiquido() - quantita) \n",
        "      return 0\n",
        "print(Riva.aggiungiLiquido(70))\n",
        "print(Riva.getLiquido())"
      ],
      "metadata": {
        "colab": {
          "base_uri": "https://localhost:8080/"
        },
        "id": "7W6xtmaeqt4p",
        "outputId": "1a1fc7f0-5b9c-40af-d92c-486d865d1629"
      },
      "execution_count": null,
      "outputs": [
        {
          "output_type": "stream",
          "name": "stdout",
          "text": [
            "70\n",
            "50\n"
          ]
        }
      ]
    }
  ]
}