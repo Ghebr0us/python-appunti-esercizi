{
  "nbformat": 4,
  "nbformat_minor": 0,
  "metadata": {
    "colab": {
      "provenance": []
    },
    "kernelspec": {
      "name": "python3",
      "display_name": "Python 3"
    },
    "language_info": {
      "name": "python"
    }
  },
  "cells": [
    {
      "cell_type": "markdown",
      "source": [
        "# Esempio Ereditarietà (Persona<--->Studente/Insegnante)"
      ],
      "metadata": {
        "id": "AXuNu1husJxb"
      }
    },
    {
      "cell_type": "code",
      "execution_count": null,
      "metadata": {
        "colab": {
          "base_uri": "https://localhost:8080/"
        },
        "id": "YMx_No0mmF1a",
        "outputId": "d2978840-439b-4314-8a33-262374d15cfb"
      },
      "outputs": [
        {
          "output_type": "stream",
          "name": "stdout",
          "text": [
            "\n",
            "        Nome: Py\n",
            "        Cognome: Mike\n",
            "        Età: 24\n",
            "        Residenza: Casa Dello Studente\n",
            "\n",
            "\n",
            "        Nome: Mario\n",
            "        Cognome: Rossi\n",
            "        Età: 33\n",
            "        Residenza: Viale Roma 32\n",
            "\n"
          ]
        }
      ],
      "source": [
        "class Persona:\n",
        "\n",
        "    def __init__(self, nome, cognome, età, residenza):\n",
        "        self.nome = nome\n",
        "        self.cognome = cognome\n",
        "        self.età = età\n",
        "        self.residenza = residenza\n",
        "\n",
        "    def scheda_personale(self):\n",
        "        scheda = f\"\"\"\n",
        "        Nome: {self.nome}\n",
        "        Cognome: {self.cognome}\n",
        "        Età: {self.età}\n",
        "        Residenza: {self.residenza}\\n\"\"\"\n",
        "        return scheda\n",
        "\n",
        "    def modifica_scheda(self):\n",
        "        print(\"\"\"Modifica Scheda:\n",
        "        1 - Nome\n",
        "        2 - Cognome\n",
        "        3 - Età\n",
        "        4 - Residenza\"\"\")\n",
        "        scelta = input(\"Cosa Desideri modificare?\")\n",
        "        if scelta == \"1\":\n",
        "            self.nome = input(\"Nuovo Nome--> \")\n",
        "        elif scelta == \"2\":\n",
        "            self. cognome = input(\"Nuovo Cognome --> \")\n",
        "        elif scelta == \"3\":\n",
        "            self.età = int(input(\"Nuova età --> \"))\n",
        "        elif scelta == \"4\":\n",
        "            self.residenza = input(\"Nuova Residenza --> \")\n",
        "            \n",
        "class Studente(Persona):\n",
        "    pass\n",
        "\n",
        "class Insegnante(Persona):\n",
        "    pass\n",
        "\n",
        "studente_uno = Studente(\"Py\", \"Mike\", 24, \"Casa Dello Studente\")\n",
        "insegnante_uno = Insegnante(\"Mario\", \"Rossi\", 33, \"Viale Roma 32\")\n",
        "\n",
        "print(studente_uno.scheda_personale())\n",
        "print(insegnante_uno.scheda_personale())\n",
        "            \n",
        "            \n"
      ]
    },
    {
      "cell_type": "markdown",
      "source": [
        "# Es1: Creare una classe base \"FiguraGeometrica\" da cui ereditare la classe la **classe cerchio** e la **classe rettangolo** per calcolare area e circonferenza e oarea e perimetro"
      ],
      "metadata": {
        "id": "rdjhiJnlsYlC"
      }
    },
    {
      "cell_type": "code",
      "source": [
        "class FiguraGeometrica: #colleione di oggetti che hanno gli stessi attributi\n",
        "  \n",
        "  def __init__(self,nome): #metodocostruttore\n",
        " #attributi (__privati)\n",
        "      self.__nome = nome\n",
        "\n",
        "\n",
        "class Rettangolo(FiguraGeometrica):\n",
        "    def __init__(self,nome,base, altezza):\n",
        "      super().__init__(nome)\n",
        "      self.__base = base\n",
        "      self.__altezza = altezza\n",
        "    pass\n",
        "    def get_base(self):\n",
        "        return self.__base\n",
        "\n",
        "    def get_altezza(self):\n",
        "        return self.__altezza\n",
        "\n",
        "    def get_area(self):\n",
        "        area = self.get_base() * self.get_altezza()\n",
        "        return area\n",
        "# --------------------------------------------------------\n",
        "class Cerchio(FiguraGeometrica):\n",
        "    def __init__(self,nome,diametro):\n",
        "      super().__init__(nome)\n",
        "      self.__diametro = diametro\n",
        "    pass\n",
        "\n",
        "    def get_diametro(self):\n",
        "        return self.__diametro\n",
        "\n",
        "    def get_perimetro(self):\n",
        "        perimetro = 3.14*2  *(self.get_diametro()/2)\n",
        "        return perimetro\n",
        "\n",
        "# --------------------------------------------------------\n",
        "class Quadrato(Rettangolo):\n",
        "    def __init__(self,nome,lato):\n",
        "      super().__init__(nome,lato,lato)\n",
        "    pass\n",
        "\n",
        "# class Quadrato(Rettangolo):\n",
        "#   def __init__(self,nome,lato):\n",
        "#     Rettangolo.__init__(self,nome,lato,lato)\n",
        "#   pass\n",
        "\n",
        "rettangolo = Rettangolo('rettangolo',2,4)\n",
        "cerchio = Cerchio('cerchio',10)\n",
        "quadrato = Quadrato('quadrato',5)\n",
        "print(cerchio.get_perimetro())\n",
        "print(rettangolo.get_area())\n",
        "print(quadrato.get_area())"
      ],
      "metadata": {
        "colab": {
          "base_uri": "https://localhost:8080/"
        },
        "id": "UvZUhPy0saWj",
        "outputId": "09d04b95-d503-4f34-b478-4dac7e2526bc"
      },
      "execution_count": null,
      "outputs": [
        {
          "output_type": "stream",
          "name": "stdout",
          "text": [
            "31.400000000000002\n",
            "8\n",
            "25\n"
          ]
        }
      ]
    },
    {
      "cell_type": "code",
      "source": [
        "import math\n",
        "\n",
        "class Rettangolo:\n",
        "    def __init__(self, base, altezza):\n",
        "        self.base = base\n",
        "        self.altezza = altezza\n",
        "    \n",
        "    def area(self):\n",
        "        return self.base * self.altezza\n",
        "        \n",
        "    def perimetro(self):\n",
        "        return self.base * 2 + self.altezza *2\n",
        "\n",
        "class Quadrato(Rettangolo):\n",
        "    def __init__(self, lato):\n",
        "        Rettangolo.__init__(self,lato,lato)\n",
        "    \n",
        "\n",
        "rettangolo = Rettangolo(5,6)\n",
        "print(rettangolo.area())\n",
        "print(rettangolo.perimetro())\n",
        "\n",
        "\n",
        "quadrato = Quadrato(5)\n",
        "print(quadrato.area())\n",
        "print(quadrato.perimetro())"
      ],
      "metadata": {
        "colab": {
          "base_uri": "https://localhost:8080/"
        },
        "id": "e1TUj0Go75oF",
        "outputId": "1e607c4a-8f2d-4acd-8dc2-fbab8790ad54"
      },
      "execution_count": null,
      "outputs": [
        {
          "output_type": "stream",
          "name": "stdout",
          "text": [
            "30\n",
            "22\n",
            "25\n",
            "20\n"
          ]
        }
      ]
    }
  ]
}