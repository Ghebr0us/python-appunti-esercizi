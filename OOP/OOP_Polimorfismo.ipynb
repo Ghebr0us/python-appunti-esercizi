{
  "nbformat": 4,
  "nbformat_minor": 0,
  "metadata": {
    "colab": {
      "provenance": []
    },
    "kernelspec": {
      "name": "python3",
      "display_name": "Python 3"
    },
    "language_info": {
      "name": "python"
    }
  },
  "cells": [
    {
      "cell_type": "markdown",
      "source": [
        "# ES1 autoElettrica"
      ],
      "metadata": {
        "id": "MBjg3o2x58nL"
      }
    },
    {
      "cell_type": "code",
      "execution_count": null,
      "metadata": {
        "colab": {
          "base_uri": "https://localhost:8080/"
        },
        "id": "RrLqm8xwqIa4",
        "outputId": "aa7aa335-d055-4f99-f4fc-3281f4308e41"
      },
      "outputs": [
        {
          "output_type": "stream",
          "name": "stdout",
          "text": [
            "velocità massima: 200 velocità attuale: 0 freni a tamburo\n",
            "velocità massima: 200 velocità attuale: 10 freni a tamburo\n",
            "velocità massima: 200 velocità attuale: 20 freni a tamburo\n",
            "velocità massima: 200 velocità attuale: 30 freni a tamburo\n",
            "velocità massima: 200 velocità attuale: 40 freni a tamburo\n",
            "velocità massima: 200 velocità attuale: 50 freni a tamburo\n",
            "velocità massima: 200 velocità attuale: 60 freni a tamburo\n",
            "velocità massima: 200 velocità attuale: 70 freni a tamburo\n",
            "velocità massima: 200 velocità attuale: 80 freni a tamburo\n",
            "velocità massima: 200 velocità attuale: 90 freni a tamburo\n",
            "velocità massima: 200 velocità attuale: 100 freni a tamburo\n",
            "velocità massima: 200 velocità attuale: 110 freni a tamburo\n",
            "velocità massima: 200 velocità attuale: 120 freni a tamburo\n",
            "velocità massima: 200 velocità attuale: 130 freni a tamburo\n",
            "velocità massima: 200 velocità attuale: 140 freni a tamburo\n",
            "velocità massima: 200 velocità attuale: 150 freni a tamburo\n",
            "velocità massima: 200 velocità attuale: 160 freni a tamburo\n",
            "velocità massima: 200 velocità attuale: 170 freni a tamburo\n",
            "velocità massima: 200 velocità attuale: 180 freni a tamburo\n",
            "velocità massima: 200 velocità attuale: 190 freni a tamburo\n",
            "velocità massima: 200 velocità attuale: 200 freni a tamburo\n",
            "velocità massima: 200 velocità attuale: 200 freni a tamburo\n",
            "velocità massima: 200 velocità attuale: 200 freni a tamburo\n",
            "velocità massima: 200 velocità attuale: 200 freni a tamburo\n",
            "velocità massima: 200 velocità attuale: 200 freni a tamburo\n",
            "velocità massima: 200 velocità attuale: 200 freni a tamburo\n",
            "----Elettrica----\n",
            "velocità massima: 200 velocità attuale: 0 freni a tamburo\n",
            "velocità massima: 200 velocità attuale: 5 freni a tamburo\n",
            "velocità massima: 200 velocità attuale: 10 freni a tamburo\n",
            "velocità massima: 200 velocità attuale: 15 freni a tamburo\n",
            "velocità massima: 200 velocità attuale: 20 freni a tamburo\n",
            "velocità massima: 200 velocità attuale: 25 freni a tamburo\n",
            "velocità massima: 200 velocità attuale: 30 freni a tamburo\n",
            "velocità massima: 200 velocità attuale: 35 freni a tamburo\n",
            "velocità massima: 200 velocità attuale: 40 freni a tamburo\n",
            "velocità massima: 200 velocità attuale: 45 freni a tamburo\n",
            "velocità massima: 200 velocità attuale: 50 freni a tamburo\n",
            "velocità massima: 200 velocità attuale: 55 freni a tamburo\n",
            "velocità massima: 200 velocità attuale: 60 freni a tamburo\n",
            "velocità massima: 200 velocità attuale: 65 freni a tamburo\n",
            "velocità massima: 200 velocità attuale: 70 freni a tamburo\n",
            "velocità massima: 200 velocità attuale: 75 freni a tamburo\n",
            "velocità massima: 200 velocità attuale: 80 freni a tamburo\n",
            "velocità massima: 200 velocità attuale: 85 freni a tamburo\n",
            "velocità massima: 200 velocità attuale: 90 freni a tamburo\n",
            "velocità massima: 200 velocità attuale: 95 freni a tamburo\n",
            "velocità massima: 200 velocità attuale: 100 freni a tamburo\n",
            "velocità massima: 200 velocità attuale: 105 freni a tamburo\n",
            "velocità massima: 200 velocità attuale: 110 freni a tamburo\n",
            "velocità massima: 200 velocità attuale: 115 freni a tamburo\n",
            "velocità massima: 200 velocità attuale: 120 freni a tamburo\n",
            "velocità massima: 200 velocità attuale: 125 freni a tamburo\n",
            "velocità massima: 200 velocità attuale: 130 freni a tamburo\n",
            "velocità massima: 200 velocità attuale: 135 freni a tamburo\n",
            "velocità massima: 200 velocità attuale: 140 freni a tamburo\n",
            "velocità massima: 200 velocità attuale: 145 freni a tamburo\n",
            "velocità massima: 200 velocità attuale: 150 freni a tamburo\n"
          ]
        }
      ],
      "source": [
        "class Automobile:\n",
        "    def __init__(self, vm: int, va: int,freno: str):\n",
        "        '''\n",
        "        vm velocità massima\n",
        "        va velocità attuale\n",
        "        '''\n",
        "\n",
        "        self.vm = vm\n",
        "        self.va = va\n",
        "        if freno == 'tamburo':\n",
        "            self.freno = 'tamburo'\n",
        "        else:\n",
        "            self._freno = 'disco'\n",
        "    def accellera(self,km = 10):\n",
        "        ''' aumenta la velocià di km chilometri orari'''\n",
        "        if km <= 0:\n",
        "            return\n",
        "        self.va += km\n",
        "        if self.va > self.vm:\n",
        "            self.va = self.vm\n",
        "    def frena(self):\n",
        "      if self.va == self.vm:\n",
        "        if self.freno == 'disco':\n",
        "            self.va -= 20\n",
        "        else:\n",
        "            self.va -= 10\n",
        "        self.va = max(self.va,0)\n",
        "      \n",
        "    def to_tuple(self) -> tuple:\n",
        "        return self.vm, self.va, self.freno\n",
        "\n",
        "    def to_string(self) -> str:\n",
        "        s = 'velocità massima: ' + str(self.vm)\n",
        "        s += ' velocità attuale: ' + str(self.va)\n",
        "        s += ' freni a ' + self.freno\n",
        "        return s  \n",
        "\n",
        "\n",
        "class AutoElettrica(Automobile):\n",
        "   def accellera(self,km = 5):\n",
        "      super().accellera(km)\n",
        "\n",
        "mario = Automobile(200,0,'tamburo')\n",
        "marco = AutoElettrica(200,0,'tamburo')\n",
        "\n",
        "print(mario.to_string())\n",
        "for i in range(25):\n",
        "  mario.accellera()\n",
        "  print(mario.to_string())\n",
        "\n",
        "print(\"----Elettrica----\")\n",
        "\n",
        "print(marco.to_string())\n",
        "for i in range(30):\n",
        "  marco.accellera()\n",
        "  print(marco.to_string())"
      ]
    },
    {
      "cell_type": "markdown",
      "source": [
        "# Definire in una classe python Persona,studente e lavoratore.\n",
        "studente e lavoratore sono figli di persona\n",
        "studente e lavoratore hanno 3 attributi ciascuno:\n",
        "\n",
        "Persona: nome indirizzo ed età\n",
        "\n",
        "Studente: voto\n",
        "\n",
        "lavoratore: stipendio"
      ],
      "metadata": {
        "id": "U_BTVZKt6Af7"
      }
    },
    {
      "cell_type": "code",
      "source": [
        "class Persona:\n",
        "    def __init__(self, nome, eta, indirizzo):\n",
        "        self.nome = nome\n",
        "        self.eta = eta\n",
        "        self.indirizzo = indirizzo\n",
        "\n",
        "class Studente(Persona):\n",
        "    def __init__(self,nome,eta,indirizzo,voto):\n",
        "        Persona.__init__(self,nome,eta,indirizzo)\n",
        "        self.voto = voto\n",
        "\n",
        "\n",
        "class Lavoratore(Persona):\n",
        "    def __init__(self,nome,eta,indirizzo,stipendio):\n",
        "        Persona.__init__(self,nome,eta,indirizzo)\n",
        "        self.stipendio = stipendio\n",
        "\n",
        "studente1 = Studente(\"Py\", 24, \"Casa Dello Studente\",7)\n",
        "lavoratore1 = Lavoratore(\"Mario\", 46, \"Casa Del lavoratore\",1100)\n",
        "print(studente1.nome, studente1.eta,studente1.voto)\n",
        "print(lavoratore1.nome, lavoratore1.eta,lavoratore1.stipendio)"
      ],
      "metadata": {
        "colab": {
          "base_uri": "https://localhost:8080/"
        },
        "id": "MIBAvZER6IRo",
        "outputId": "5684b34c-8644-429d-b9dc-76980cde6aae"
      },
      "execution_count": null,
      "outputs": [
        {
          "output_type": "stream",
          "name": "stdout",
          "text": [
            "Py 24 7\n",
            "Mario 46 1100\n"
          ]
        }
      ]
    }
  ]
}