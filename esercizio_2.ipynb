{
  "nbformat": 4,
  "nbformat_minor": 0,
  "metadata": {
    "colab": {
      "name": "esercizio 2.ipynb",
      "provenance": [],
      "authorship_tag": "ABX9TyNNpVH9/D2ulMkWZrzrqBd8",
      "include_colab_link": true
    },
    "kernelspec": {
      "name": "python3",
      "display_name": "Python 3"
    },
    "language_info": {
      "name": "python"
    }
  },
  "cells": [
    {
      "cell_type": "markdown",
      "metadata": {
        "id": "view-in-github",
        "colab_type": "text"
      },
      "source": [
        "<a href=\"https://colab.research.google.com/github/Ghebr0us/python-appunti-esercizi/blob/main/esercizio_2.ipynb\" target=\"_parent\"><img src=\"https://colab.research.google.com/assets/colab-badge.svg\" alt=\"Open In Colab\"/></a>"
      ]
    },
    {
      "cell_type": "markdown",
      "metadata": {
        "id": "uqx9HhoBVYFk"
      },
      "source": [
        "1) Scrivere un programma che crei una lista contenente i nomi dei capoluoghi delle regioni italiane e\n",
        "che visualizzi la lista. Chiamare la lista 'capoluoghiRegione'"
      ]
    },
    {
      "cell_type": "code",
      "metadata": {
        "id": "cMk2QTp8nsVq"
      },
      "source": [
        "capoluoghiRegione =  ['Aquila','Potenza','Catanzaro','Napoli','Bologna','Trieste','Roma','Genova','Milano','Ancona','Campobasso','Torino','Bari','Cagliari','Palermo','Firenze','Trento','Perugia','Aosta','Venezia']\n",
        "print(capoluoghiRegione)"
      ],
      "execution_count": null,
      "outputs": []
    },
    {
      "cell_type": "markdown",
      "metadata": {
        "id": "yQ7rXWdIVhRw"
      },
      "source": [
        "2. Scrivere un programma che visualizzi i primi 6 capoluoghi di regione presenti in\n",
        "capoluoghiRegione"
      ]
    },
    {
      "cell_type": "code",
      "metadata": {
        "colab": {
          "base_uri": "https://localhost:8080/"
        },
        "id": "a4ZKcqZXVh4_",
        "outputId": "9465abe9-827f-467d-e1f0-1dccb0bdfeed"
      },
      "source": [
        "print(capoluoghiRegione[:6])"
      ],
      "execution_count": null,
      "outputs": [
        {
          "output_type": "stream",
          "name": "stdout",
          "text": [
            "['Aquila', 'Potenza', 'Catanzaro', 'Napoli', 'Bologna', 'Trieste']\n"
          ]
        }
      ]
    },
    {
      "cell_type": "markdown",
      "metadata": {
        "id": "XDgbiwTdWFtn"
      },
      "source": [
        "3. Scrivere un programma che visualizzi gli ultimi 6 capoluoghi di regione presenti in\n",
        "capoluoghiRegione"
      ]
    },
    {
      "cell_type": "code",
      "metadata": {
        "colab": {
          "base_uri": "https://localhost:8080/"
        },
        "id": "GXNcywX8WHv3",
        "outputId": "d26a1e37-652c-48a5-eefd-7e31eeb0f44d"
      },
      "source": [
        "print(capoluoghiRegione[-6:])"
      ],
      "execution_count": null,
      "outputs": [
        {
          "output_type": "stream",
          "name": "stdout",
          "text": [
            "['Palermo', 'Firenze', 'Trento', 'Perugia', 'Aosta', 'Venezia']\n"
          ]
        }
      ]
    },
    {
      "cell_type": "markdown",
      "metadata": {
        "id": "jKPX9zJ8We9s"
      },
      "source": [
        "4. Scrivere un programma che visualizzi i 6 capoluoghi di regione presenti nella parte centrale di\n",
        "capoluoghiRegione"
      ]
    },
    {
      "cell_type": "code",
      "metadata": {
        "colab": {
          "base_uri": "https://localhost:8080/"
        },
        "id": "fTApN-fRWh9V",
        "outputId": "95f3321f-22d4-4221-8b88-6c75c892d62f"
      },
      "source": [
        "print(capoluoghiRegione[7:-7])"
      ],
      "execution_count": null,
      "outputs": [
        {
          "output_type": "stream",
          "name": "stdout",
          "text": [
            "['Genova', 'Milano', 'Ancona', 'Campobasso', 'Torino', 'Bari']\n"
          ]
        }
      ]
    },
    {
      "cell_type": "markdown",
      "metadata": {
        "id": "jgAqjZXYXWCU"
      },
      "source": [
        "5. Scrivere un programma che visualizzi i capoluoghi di regione presenti in capoluoghiRegione\n",
        "nelle posizioni pari."
      ]
    },
    {
      "cell_type": "code",
      "metadata": {
        "colab": {
          "base_uri": "https://localhost:8080/"
        },
        "id": "zwVGv95tXW0R",
        "outputId": "621b462c-7492-4484-e0bb-2b1f79195acf"
      },
      "source": [
        "print(capoluoghiRegione[::2])"
      ],
      "execution_count": null,
      "outputs": [
        {
          "output_type": "stream",
          "name": "stdout",
          "text": [
            "['Aquila', 'Catanzaro', 'Bologna', 'Roma', 'Milano', 'Campobasso', 'Bari', 'Palermo', 'Trento', 'Aosta']\n"
          ]
        }
      ]
    },
    {
      "cell_type": "markdown",
      "metadata": {
        "id": "-RNPMMw0Y-6P"
      },
      "source": [
        "6. Scrivere un programma che visualizzi i capoluoghi di regione presenti in capoluoghiRegione\n",
        "nelle posizioni dispari."
      ]
    },
    {
      "cell_type": "code",
      "metadata": {
        "colab": {
          "base_uri": "https://localhost:8080/"
        },
        "id": "SC07LQx5Y_cU",
        "outputId": "1f9eff76-f7d4-4e6f-9799-d5e5e15427c2"
      },
      "source": [
        "print(capoluoghiRegione[1::2])"
      ],
      "execution_count": null,
      "outputs": [
        {
          "output_type": "stream",
          "name": "stdout",
          "text": [
            "['Potenza', 'Napoli', 'Trieste', 'Genova', 'Ancona', 'Torino', 'Cagliari', 'Firenze', 'Perugia', 'Venezia']\n"
          ]
        }
      ]
    },
    {
      "cell_type": "markdown",
      "metadata": {
        "id": "ON8omvX4Z1vG"
      },
      "source": [
        "7. Scrivere un programma che visualizzi il primo capoluogo di regione in ordine alfabetico"
      ]
    },
    {
      "cell_type": "code",
      "metadata": {
        "colab": {
          "base_uri": "https://localhost:8080/"
        },
        "id": "IvuEteSTZ2EB",
        "outputId": "e05f7897-2458-4f6d-ba96-8413e5724efe"
      },
      "source": [
        "capoluoghiRegione.sort()\n",
        "print(capoluoghiRegione[0])"
      ],
      "execution_count": null,
      "outputs": [
        {
          "output_type": "stream",
          "name": "stdout",
          "text": [
            "Ancona\n"
          ]
        }
      ]
    },
    {
      "cell_type": "markdown",
      "metadata": {
        "id": "TbXDXKVpbMUu"
      },
      "source": [
        "8. Scrivere un programma che permetta ad un utente di inserire il nome di una città è risponda True\n",
        "se quella città è un capoluogo di regione, False altrimenti."
      ]
    },
    {
      "cell_type": "code",
      "metadata": {
        "id": "gMghyLkMbMsd"
      },
      "source": [
        "\n",
        "citta=(input(\"citta \"))in capoluoghiRegione\n",
        "citta in capoluoghiRegione\n",
        "print(citta)"
      ],
      "execution_count": null,
      "outputs": []
    },
    {
      "cell_type": "markdown",
      "metadata": {
        "id": "YBDQ1WlLbuF8"
      },
      "source": [
        "9. Scrivere un programma che visualizzi i capoluoghi in ordine alfabetico"
      ]
    },
    {
      "cell_type": "code",
      "metadata": {
        "colab": {
          "base_uri": "https://localhost:8080/"
        },
        "id": "EGuFja31buaq",
        "outputId": "6ab43487-d454-4458-c5ef-c160971c130d"
      },
      "source": [
        "capoluoghiRegione.sort()\n",
        "print(capoluoghiRegione)"
      ],
      "execution_count": null,
      "outputs": [
        {
          "output_type": "stream",
          "name": "stdout",
          "text": [
            "['Ancona', 'Aosta', 'Bari', 'Bologna', 'Cagliari', 'Campobasso', 'Catanzaro', 'Firenze', 'Genova', \"L'Aquila\", 'Milano', 'Napoli', 'Palermo', 'Perugia', 'Potenza', 'Roma', 'Torino', 'Trento', 'Trieste', 'Venezia']\n"
          ]
        }
      ]
    },
    {
      "cell_type": "markdown",
      "metadata": {
        "id": "PyiuylQkb1dE"
      },
      "source": [
        "10. Scrivere un programma che visualizzi i capoluoghi in ordine alfabetico inverso (dalla Z alla A)"
      ]
    },
    {
      "cell_type": "code",
      "metadata": {
        "colab": {
          "base_uri": "https://localhost:8080/"
        },
        "id": "3ZoZ9ZYjb1vC",
        "outputId": "19ce94c4-d8f7-47b9-a5e7-67b1ec6f3377"
      },
      "source": [
        "print(sorted(capoluoghiRegione,reverse= True))"
      ],
      "execution_count": null,
      "outputs": [
        {
          "output_type": "stream",
          "name": "stdout",
          "text": [
            "['Venezia', 'Trieste', 'Trento', 'Torino', 'Roma', 'Potenza', 'Perugia', 'Palermo', 'Napoli', 'Milano', \"L'Aquila\", 'Genova', 'Firenze', 'Catanzaro', 'Campobasso', 'Cagliari', 'Bologna', 'Bari', 'Aosta', 'Ancona']\n"
          ]
        }
      ]
    },
    {
      "cell_type": "markdown",
      "metadata": {
        "id": "_1KokAvzcYhO"
      },
      "source": [
        "11. Scrivere un programma che visualizzi i capoluoghi in ordine sulla base della lunghezza del nome (da\n",
        "quello più corto a quello più lungo)"
      ]
    },
    {
      "cell_type": "code",
      "metadata": {
        "colab": {
          "base_uri": "https://localhost:8080/"
        },
        "id": "DGkMtdmfcYzq",
        "outputId": "2b74007b-ea83-43dd-eca0-697a768e3bfb"
      },
      "source": [
        "print(sorted(capoluoghiRegione,key=len))"
      ],
      "execution_count": null,
      "outputs": [
        {
          "output_type": "stream",
          "name": "stdout",
          "text": [
            "['Bari', 'Roma', 'Aosta', 'Ancona', 'Genova', 'Milano', 'Napoli', 'Torino', 'Trento', 'Bologna', 'Firenze', 'Palermo', 'Perugia', 'Potenza', 'Trieste', 'Venezia', 'Cagliari', \"L'Aquila\", 'Catanzaro', 'Campobasso']\n"
          ]
        }
      ]
    },
    {
      "cell_type": "markdown",
      "metadata": {
        "id": "ncvBdwGXdCVj"
      },
      "source": [
        "12. Scrivere un programma che copi la lista capoluoghiRegione nella lista\n",
        "capoluoghiRegione2 e che elimini dalla prima lista il primo e l’ultimo elemento. Al termine,\n",
        "visualizzare le due liste una sotto l’altra per verificare che effettivamente siano stati eliminati gli\n",
        "elementi della lista originale."
      ]
    },
    {
      "cell_type": "code",
      "metadata": {
        "colab": {
          "base_uri": "https://localhost:8080/"
        },
        "id": "034lCursdCpe",
        "outputId": "7e5cebef-8593-4639-e212-626bc9b9641b"
      },
      "source": [
        "capoluoghiRegione =  ['Aquila','Potenza','Catanzaro','Napoli','Bologna','Trieste','Roma','Genova','Milano','Ancona','Campobasso','Torino','Bari','Cagliari','Palermo','Firenze','Trento','Perugia','Aosta','Venezia']\n",
        "capoluoghiRegione2= capoluoghiRegione\n",
        "print(capoluoghiRegione)\n",
        "\n",
        "capoluoghiRegione2.pop()\n",
        "capoluoghiRegione2.pop(0)\n",
        "print(capoluoghiRegione2)\n",
        "\n"
      ],
      "execution_count": null,
      "outputs": [
        {
          "output_type": "stream",
          "name": "stdout",
          "text": [
            "['Aquila', 'Potenza', 'Catanzaro', 'Napoli', 'Bologna', 'Trieste', 'Roma', 'Genova', 'Milano', 'Ancona', 'Campobasso', 'Torino', 'Bari', 'Cagliari', 'Palermo', 'Firenze', 'Trento', 'Perugia', 'Aosta', 'Venezia']\n",
            "['Potenza', 'Catanzaro', 'Napoli', 'Bologna', 'Trieste', 'Roma', 'Genova', 'Milano', 'Ancona', 'Campobasso', 'Torino', 'Bari', 'Cagliari', 'Palermo', 'Firenze', 'Trento', 'Perugia', 'Aosta']\n"
          ]
        }
      ]
    },
    {
      "cell_type": "markdown",
      "metadata": {
        "id": "RBf7yb53e7uZ"
      },
      "source": [
        "13. Scrivere un programma che, con una sola istruzione, carichi una lista con i primi 100 numeri interi.\n",
        "Chiamare la lista numeriInteri. Al termine, visualizzare la lista."
      ]
    },
    {
      "cell_type": "code",
      "metadata": {
        "colab": {
          "base_uri": "https://localhost:8080/"
        },
        "id": "7XpH-e0Ye78l",
        "outputId": "3f5996f5-0ee9-4258-acf3-0096fb9d13ce"
      },
      "source": [
        "numeriInteri = [i for i in range(0, 100)]\n",
        "print(numeriInteri)"
      ],
      "execution_count": null,
      "outputs": [
        {
          "output_type": "stream",
          "name": "stdout",
          "text": [
            "[0, 1, 2, 3, 4, 5, 6, 7, 8, 9, 10, 11, 12, 13, 14, 15, 16, 17, 18, 19, 20, 21, 22, 23, 24, 25, 26, 27, 28, 29, 30, 31, 32, 33, 34, 35, 36, 37, 38, 39, 40, 41, 42, 43, 44, 45, 46, 47, 48, 49, 50, 51, 52, 53, 54, 55, 56, 57, 58, 59, 60, 61, 62, 63, 64, 65, 66, 67, 68, 69, 70, 71, 72, 73, 74, 75, 76, 77, 78, 79, 80, 81, 82, 83, 84, 85, 86, 87, 88, 89, 90, 91, 92, 93, 94, 95, 96, 97, 98, 99]\n"
          ]
        }
      ]
    },
    {
      "cell_type": "markdown",
      "metadata": {
        "id": "xd1-g0tUfW6O"
      },
      "source": [
        "14. Scrivere un programma che permetta all’utente di inserire in una lista 10 numeri interi, elimini i\n",
        "duplicati e visualizzi la lista senza duplicati. Chiamare la lista numeriInteri."
      ]
    },
    {
      "cell_type": "code",
      "metadata": {
        "id": "xbSE_M_WfXXD"
      },
      "source": [
        "NumeriInteri = []\n",
        "for i in range(10):\n",
        " NumeriInteri.insert(i,input(\"Inserisci il 12453\n",
        " numero intero: \"))\n",
        "print(set(NumeriInteri))\n"
      ],
      "execution_count": null,
      "outputs": []
    }
  ]
}